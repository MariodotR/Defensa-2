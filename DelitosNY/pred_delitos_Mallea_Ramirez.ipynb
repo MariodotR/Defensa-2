{
 "cells": [
  {
   "cell_type": "markdown",
   "metadata": {
    "id": "Su9_-Ek9i1Yj"
   },
   "source": [
    "# Delitos en los municipios de NY"
   ]
  },
  {
   "cell_type": "markdown",
   "metadata": {
    "id": "ElpoJGOwi1Yo"
   },
   "source": [
    "Integrantes: Mario Mallea y Maximiliano Ramírez."
   ]
  },
  {
   "cell_type": "markdown",
   "metadata": {
    "id": "yXdOHyX3i1Yo"
   },
   "source": [
    "En un principio trabajaremos con el conjunto de entrenamiento, particionando este en, train y test de forma de poder realizar las técnicas usuales y familiarizarnos con el problema. Esto se puede ver como una técnica de validación.\n",
    "Procederemos en 4 puntos, un modelo que preserve la temporalidada en 1), luego dividiremos el problema en 2), a este añadiremos una técnica de multioitput en 3) y finalmente haremos selección de modelos en 4).\n",
    "\n",
    "**El modelo final:** Aquí probamos dos modelos con lo aprendido en validación, a pesar que el primer modelo funcionó levemente mejor en los resultados públicos de la competencia, el segundo modelo añade al primero la selección de hiperparámetros y la estandarización de los datos."
   ]
  },
  {
   "cell_type": "markdown",
   "metadata": {
    "id": "PjAu-jJIi1Yp"
   },
   "source": [
    "Librerías necesarias"
   ]
  },
  {
   "cell_type": "code",
   "execution_count": 1,
   "metadata": {
    "id": "pRG52cXJi1Yp"
   },
   "outputs": [],
   "source": [
    "import pandas as pd\n",
    "import matplotlib.pyplot as plt\n",
    "import seaborn as sns\n",
    "import numpy as np\n",
    "from sklearn.preprocessing import StandardScaler\n",
    "from sklearn import linear_model\n",
    "from sklearn.metrics import mean_squared_error\n",
    "import warnings\n",
    "warnings.filterwarnings(\"ignore\")"
   ]
  },
  {
   "cell_type": "markdown",
   "metadata": {
    "id": "2pyoCmbmi1Yq"
   },
   "source": [
    "\n",
    "Lectura de datos entrenamiento"
   ]
  },
  {
   "cell_type": "code",
   "execution_count": 2,
   "metadata": {
    "id": "qPll4NKUi1Yq"
   },
   "outputs": [],
   "source": [
    "x_train= pd.read_csv(\"x_train.csv\")\n",
    "y_train= pd.read_csv(\"y_train.csv\")"
   ]
  },
  {
   "cell_type": "markdown",
   "metadata": {
    "id": "DxYoXeExi1Yq"
   },
   "source": [
    " Pre-procesamiento de datos"
   ]
  },
  {
   "cell_type": "code",
   "execution_count": 3,
   "metadata": {
    "id": "PPI-SyfLnRC4"
   },
   "outputs": [],
   "source": [
    "## Prepocesamiento entramiento\n",
    "\n",
    "x_train=x_train.drop([\"Other\",\"Unknown\"],axis=1) ##solo tienen ceros\n",
    "\n",
    "categoricas_codificado=pd.get_dummies(list(x_train.dtypes[x_train.dtypes == \"object\"].index))\n",
    "\n",
    "categorica_features = list(x_train.dtypes[x_train.dtypes == \"object\"].index) #columnas categoricas\n",
    "categoricas=x_train.loc[:,categorica_features] #sus datos\n",
    "categoricas_codificado=pd.get_dummies(categoricas)\n",
    "\n",
    "numeric_features = list(x_train.dtypes[x_train.dtypes != \"object\"].index) #columnas numericas\n",
    "numericas=x_train.loc[:,numeric_features] #sus datos\n",
    "numericas= pd.DataFrame(data=numericas, columns= numeric_features)\n",
    "\n",
    "\n",
    "\n",
    "\n",
    "## Estandarización \n",
    "year = numericas.year\n",
    "week = numericas.week\n",
    "df_procesado_2 = numericas.drop([\"year\",\"week\"],axis=1)\n",
    "scaler = StandardScaler()\n",
    "scaler.fit(df_procesado_2)\n",
    "df_procesado_3=pd.DataFrame(data= scaler.transform(df_procesado_2),columns= df_procesado_2.columns)\n",
    "\n",
    "df_procesado_4= pd.concat([categoricas_codificado,df_procesado_3], axis=1, sort=False)\n",
    "df_procesado=pd.concat((df_procesado_4,year,week),axis=1)\n",
    "\n",
    "\n",
    "## obtenemos la informacion de ciudad y semana para el train\n",
    "\n",
    "año=[]\n",
    "for i in y_train['year_week_borough']:\n",
    "    aux= i.split('_')\n",
    "    año.append(int(aux[-3].strip()))\n",
    "\n",
    "y_train['year'] = año\n",
    "y_train= y_train.drop('year_week_borough',axis=1)"
   ]
  },
  {
   "cell_type": "code",
   "execution_count": 4,
   "metadata": {
    "colab": {
     "base_uri": "https://localhost:8080/",
     "height": 419
    },
    "id": "zFx9jyqonmyy",
    "outputId": "a7544463-18c5-45ac-8fa5-68c75462a1e5"
   },
   "outputs": [
    {
     "data": {
      "text/html": [
       "<div>\n",
       "<style scoped>\n",
       "    .dataframe tbody tr th:only-of-type {\n",
       "        vertical-align: middle;\n",
       "    }\n",
       "\n",
       "    .dataframe tbody tr th {\n",
       "        vertical-align: top;\n",
       "    }\n",
       "\n",
       "    .dataframe thead th {\n",
       "        text-align: right;\n",
       "    }\n",
       "</style>\n",
       "<table border=\"1\" class=\"dataframe\">\n",
       "  <thead>\n",
       "    <tr style=\"text-align: right;\">\n",
       "      <th></th>\n",
       "      <th>Felony</th>\n",
       "      <th>Misdemeanor</th>\n",
       "      <th>Violation</th>\n",
       "      <th>year</th>\n",
       "    </tr>\n",
       "  </thead>\n",
       "  <tbody>\n",
       "    <tr>\n",
       "      <th>0</th>\n",
       "      <td>446</td>\n",
       "      <td>1651</td>\n",
       "      <td>41</td>\n",
       "      <td>2012</td>\n",
       "    </tr>\n",
       "    <tr>\n",
       "      <th>1</th>\n",
       "      <td>293</td>\n",
       "      <td>1072</td>\n",
       "      <td>41</td>\n",
       "      <td>2012</td>\n",
       "    </tr>\n",
       "    <tr>\n",
       "      <th>2</th>\n",
       "      <td>382</td>\n",
       "      <td>1105</td>\n",
       "      <td>37</td>\n",
       "      <td>2012</td>\n",
       "    </tr>\n",
       "    <tr>\n",
       "      <th>3</th>\n",
       "      <td>453</td>\n",
       "      <td>1236</td>\n",
       "      <td>54</td>\n",
       "      <td>2012</td>\n",
       "    </tr>\n",
       "    <tr>\n",
       "      <th>4</th>\n",
       "      <td>366</td>\n",
       "      <td>1204</td>\n",
       "      <td>57</td>\n",
       "      <td>2012</td>\n",
       "    </tr>\n",
       "    <tr>\n",
       "      <th>...</th>\n",
       "      <td>...</td>\n",
       "      <td>...</td>\n",
       "      <td>...</td>\n",
       "      <td>...</td>\n",
       "    </tr>\n",
       "    <tr>\n",
       "      <th>1705</th>\n",
       "      <td>81</td>\n",
       "      <td>137</td>\n",
       "      <td>0</td>\n",
       "      <td>2018</td>\n",
       "    </tr>\n",
       "    <tr>\n",
       "      <th>1706</th>\n",
       "      <td>62</td>\n",
       "      <td>163</td>\n",
       "      <td>0</td>\n",
       "      <td>2018</td>\n",
       "    </tr>\n",
       "    <tr>\n",
       "      <th>1707</th>\n",
       "      <td>54</td>\n",
       "      <td>93</td>\n",
       "      <td>0</td>\n",
       "      <td>2018</td>\n",
       "    </tr>\n",
       "    <tr>\n",
       "      <th>1708</th>\n",
       "      <td>59</td>\n",
       "      <td>108</td>\n",
       "      <td>0</td>\n",
       "      <td>2018</td>\n",
       "    </tr>\n",
       "    <tr>\n",
       "      <th>1709</th>\n",
       "      <td>44</td>\n",
       "      <td>88</td>\n",
       "      <td>0</td>\n",
       "      <td>2018</td>\n",
       "    </tr>\n",
       "  </tbody>\n",
       "</table>\n",
       "<p>1710 rows × 4 columns</p>\n",
       "</div>"
      ],
      "text/plain": [
       "      Felony  Misdemeanor  Violation  year\n",
       "0        446         1651         41  2012\n",
       "1        293         1072         41  2012\n",
       "2        382         1105         37  2012\n",
       "3        453         1236         54  2012\n",
       "4        366         1204         57  2012\n",
       "...      ...          ...        ...   ...\n",
       "1705      81          137          0  2018\n",
       "1706      62          163          0  2018\n",
       "1707      54           93          0  2018\n",
       "1708      59          108          0  2018\n",
       "1709      44           88          0  2018\n",
       "\n",
       "[1710 rows x 4 columns]"
      ]
     },
     "execution_count": 4,
     "metadata": {},
     "output_type": "execute_result"
    }
   ],
   "source": [
    "## Y a trabajar\n",
    "y_train"
   ]
  },
  {
   "cell_type": "code",
   "execution_count": 5,
   "metadata": {
    "colab": {
     "base_uri": "https://localhost:8080/",
     "height": 490
    },
    "id": "iVcBRv3Qs4ek",
    "outputId": "853530c0-9a5d-4943-cfae-6351f3a589de"
   },
   "outputs": [
    {
     "data": {
      "text/html": [
       "<div>\n",
       "<style scoped>\n",
       "    .dataframe tbody tr th:only-of-type {\n",
       "        vertical-align: middle;\n",
       "    }\n",
       "\n",
       "    .dataframe tbody tr th {\n",
       "        vertical-align: top;\n",
       "    }\n",
       "\n",
       "    .dataframe thead th {\n",
       "        text-align: right;\n",
       "    }\n",
       "</style>\n",
       "<table border=\"1\" class=\"dataframe\">\n",
       "  <thead>\n",
       "    <tr style=\"text-align: right;\">\n",
       "      <th></th>\n",
       "      <th>Borough_Bronx</th>\n",
       "      <th>Borough_Brooklyn</th>\n",
       "      <th>Borough_Manhattan</th>\n",
       "      <th>Borough_Queens</th>\n",
       "      <th>Borough_Staten island</th>\n",
       "      <th>Housing</th>\n",
       "      <th>Other jurisdiction</th>\n",
       "      <th>Patrol</th>\n",
       "      <th>Transit</th>\n",
       "      <th>18-24</th>\n",
       "      <th>...</th>\n",
       "      <th>Other vehicular</th>\n",
       "      <th>Passing or lane usage improper</th>\n",
       "      <th>Passing too closely</th>\n",
       "      <th>Prescription medication</th>\n",
       "      <th>Traffic control disregarded</th>\n",
       "      <th>Turning improperly</th>\n",
       "      <th>Unsafe lane changing</th>\n",
       "      <th>Unspecified</th>\n",
       "      <th>year</th>\n",
       "      <th>week</th>\n",
       "    </tr>\n",
       "  </thead>\n",
       "  <tbody>\n",
       "    <tr>\n",
       "      <th>0</th>\n",
       "      <td>1</td>\n",
       "      <td>0</td>\n",
       "      <td>0</td>\n",
       "      <td>0</td>\n",
       "      <td>0</td>\n",
       "      <td>1.165259</td>\n",
       "      <td>-0.112378</td>\n",
       "      <td>1.616657</td>\n",
       "      <td>0.346693</td>\n",
       "      <td>1.800804</td>\n",
       "      <td>...</td>\n",
       "      <td>-0.994905</td>\n",
       "      <td>-0.680099</td>\n",
       "      <td>-0.676201</td>\n",
       "      <td>-0.563182</td>\n",
       "      <td>-1.218644</td>\n",
       "      <td>-1.145703</td>\n",
       "      <td>-0.629373</td>\n",
       "      <td>-1.127195</td>\n",
       "      <td>2012</td>\n",
       "      <td>1</td>\n",
       "    </tr>\n",
       "    <tr>\n",
       "      <th>1</th>\n",
       "      <td>1</td>\n",
       "      <td>0</td>\n",
       "      <td>0</td>\n",
       "      <td>0</td>\n",
       "      <td>0</td>\n",
       "      <td>0.844420</td>\n",
       "      <td>-0.469481</td>\n",
       "      <td>0.289162</td>\n",
       "      <td>-0.206801</td>\n",
       "      <td>0.533417</td>\n",
       "      <td>...</td>\n",
       "      <td>-0.994905</td>\n",
       "      <td>-0.680099</td>\n",
       "      <td>-0.676201</td>\n",
       "      <td>-0.813453</td>\n",
       "      <td>-1.218644</td>\n",
       "      <td>-1.145703</td>\n",
       "      <td>-0.629373</td>\n",
       "      <td>-1.154663</td>\n",
       "      <td>2012</td>\n",
       "      <td>26</td>\n",
       "    </tr>\n",
       "    <tr>\n",
       "      <th>2</th>\n",
       "      <td>1</td>\n",
       "      <td>0</td>\n",
       "      <td>0</td>\n",
       "      <td>0</td>\n",
       "      <td>0</td>\n",
       "      <td>0.623843</td>\n",
       "      <td>-0.737309</td>\n",
       "      <td>0.525481</td>\n",
       "      <td>-0.028254</td>\n",
       "      <td>0.926129</td>\n",
       "      <td>...</td>\n",
       "      <td>-0.679618</td>\n",
       "      <td>-0.680099</td>\n",
       "      <td>-0.676201</td>\n",
       "      <td>0.187630</td>\n",
       "      <td>-0.372913</td>\n",
       "      <td>-0.942408</td>\n",
       "      <td>-0.629373</td>\n",
       "      <td>0.115722</td>\n",
       "      <td>2012</td>\n",
       "      <td>27</td>\n",
       "    </tr>\n",
       "    <tr>\n",
       "      <th>3</th>\n",
       "      <td>1</td>\n",
       "      <td>0</td>\n",
       "      <td>0</td>\n",
       "      <td>0</td>\n",
       "      <td>0</td>\n",
       "      <td>0.182689</td>\n",
       "      <td>0.244726</td>\n",
       "      <td>0.922085</td>\n",
       "      <td>0.203856</td>\n",
       "      <td>1.074883</td>\n",
       "      <td>...</td>\n",
       "      <td>-0.805733</td>\n",
       "      <td>-0.680099</td>\n",
       "      <td>-0.676201</td>\n",
       "      <td>-0.312911</td>\n",
       "      <td>-0.880352</td>\n",
       "      <td>-0.230876</td>\n",
       "      <td>-0.629373</td>\n",
       "      <td>-0.007883</td>\n",
       "      <td>2012</td>\n",
       "      <td>28</td>\n",
       "    </tr>\n",
       "    <tr>\n",
       "      <th>4</th>\n",
       "      <td>1</td>\n",
       "      <td>0</td>\n",
       "      <td>0</td>\n",
       "      <td>0</td>\n",
       "      <td>0</td>\n",
       "      <td>0.764210</td>\n",
       "      <td>0.200088</td>\n",
       "      <td>0.628228</td>\n",
       "      <td>0.194929</td>\n",
       "      <td>1.116534</td>\n",
       "      <td>...</td>\n",
       "      <td>-0.742676</td>\n",
       "      <td>-0.680099</td>\n",
       "      <td>-0.676201</td>\n",
       "      <td>-0.062641</td>\n",
       "      <td>-0.880352</td>\n",
       "      <td>-0.840761</td>\n",
       "      <td>-0.629373</td>\n",
       "      <td>-0.097153</td>\n",
       "      <td>2012</td>\n",
       "      <td>29</td>\n",
       "    </tr>\n",
       "    <tr>\n",
       "      <th>...</th>\n",
       "      <td>...</td>\n",
       "      <td>...</td>\n",
       "      <td>...</td>\n",
       "      <td>...</td>\n",
       "      <td>...</td>\n",
       "      <td>...</td>\n",
       "      <td>...</td>\n",
       "      <td>...</td>\n",
       "      <td>...</td>\n",
       "      <td>...</td>\n",
       "      <td>...</td>\n",
       "      <td>...</td>\n",
       "      <td>...</td>\n",
       "      <td>...</td>\n",
       "      <td>...</td>\n",
       "      <td>...</td>\n",
       "      <td>...</td>\n",
       "      <td>...</td>\n",
       "      <td>...</td>\n",
       "      <td>...</td>\n",
       "      <td>...</td>\n",
       "    </tr>\n",
       "    <tr>\n",
       "      <th>1705</th>\n",
       "      <td>0</td>\n",
       "      <td>0</td>\n",
       "      <td>0</td>\n",
       "      <td>0</td>\n",
       "      <td>1</td>\n",
       "      <td>-1.301194</td>\n",
       "      <td>-1.362240</td>\n",
       "      <td>-1.683586</td>\n",
       "      <td>-1.108460</td>\n",
       "      <td>-1.638396</td>\n",
       "      <td>...</td>\n",
       "      <td>-0.868790</td>\n",
       "      <td>-0.460864</td>\n",
       "      <td>-0.397372</td>\n",
       "      <td>-0.813453</td>\n",
       "      <td>-1.049498</td>\n",
       "      <td>-0.739113</td>\n",
       "      <td>-0.092119</td>\n",
       "      <td>-1.230199</td>\n",
       "      <td>2018</td>\n",
       "      <td>48</td>\n",
       "    </tr>\n",
       "    <tr>\n",
       "      <th>1706</th>\n",
       "      <td>0</td>\n",
       "      <td>0</td>\n",
       "      <td>0</td>\n",
       "      <td>0</td>\n",
       "      <td>1</td>\n",
       "      <td>-1.261089</td>\n",
       "      <td>-1.094412</td>\n",
       "      <td>-1.685641</td>\n",
       "      <td>-1.108460</td>\n",
       "      <td>-1.680047</td>\n",
       "      <td>...</td>\n",
       "      <td>-0.553503</td>\n",
       "      <td>-0.387786</td>\n",
       "      <td>-0.397372</td>\n",
       "      <td>-0.813453</td>\n",
       "      <td>-0.880352</td>\n",
       "      <td>-1.145703</td>\n",
       "      <td>-0.521922</td>\n",
       "      <td>-1.175264</td>\n",
       "      <td>2018</td>\n",
       "      <td>49</td>\n",
       "    </tr>\n",
       "    <tr>\n",
       "      <th>1707</th>\n",
       "      <td>0</td>\n",
       "      <td>0</td>\n",
       "      <td>0</td>\n",
       "      <td>0</td>\n",
       "      <td>1</td>\n",
       "      <td>-1.301194</td>\n",
       "      <td>-1.228326</td>\n",
       "      <td>-1.835652</td>\n",
       "      <td>-1.108460</td>\n",
       "      <td>-1.799050</td>\n",
       "      <td>...</td>\n",
       "      <td>-0.742676</td>\n",
       "      <td>-0.314707</td>\n",
       "      <td>-0.606494</td>\n",
       "      <td>-0.813453</td>\n",
       "      <td>-1.049498</td>\n",
       "      <td>-0.942408</td>\n",
       "      <td>-0.521922</td>\n",
       "      <td>-1.243933</td>\n",
       "      <td>2018</td>\n",
       "      <td>50</td>\n",
       "    </tr>\n",
       "    <tr>\n",
       "      <th>1708</th>\n",
       "      <td>0</td>\n",
       "      <td>0</td>\n",
       "      <td>0</td>\n",
       "      <td>0</td>\n",
       "      <td>1</td>\n",
       "      <td>-1.301194</td>\n",
       "      <td>-1.139050</td>\n",
       "      <td>-1.798663</td>\n",
       "      <td>-1.108460</td>\n",
       "      <td>-1.680047</td>\n",
       "      <td>...</td>\n",
       "      <td>-0.868790</td>\n",
       "      <td>-0.241629</td>\n",
       "      <td>-0.536787</td>\n",
       "      <td>-0.688317</td>\n",
       "      <td>-0.711206</td>\n",
       "      <td>-0.739113</td>\n",
       "      <td>-0.521922</td>\n",
       "      <td>-1.230199</td>\n",
       "      <td>2018</td>\n",
       "      <td>51</td>\n",
       "    </tr>\n",
       "    <tr>\n",
       "      <th>1709</th>\n",
       "      <td>0</td>\n",
       "      <td>0</td>\n",
       "      <td>0</td>\n",
       "      <td>0</td>\n",
       "      <td>1</td>\n",
       "      <td>-1.301194</td>\n",
       "      <td>-1.228326</td>\n",
       "      <td>-1.866476</td>\n",
       "      <td>-1.108460</td>\n",
       "      <td>-1.745499</td>\n",
       "      <td>...</td>\n",
       "      <td>-0.805733</td>\n",
       "      <td>-0.533943</td>\n",
       "      <td>-0.467080</td>\n",
       "      <td>-0.813453</td>\n",
       "      <td>-0.711206</td>\n",
       "      <td>-1.044056</td>\n",
       "      <td>-0.521922</td>\n",
       "      <td>-1.257667</td>\n",
       "      <td>2018</td>\n",
       "      <td>52</td>\n",
       "    </tr>\n",
       "  </tbody>\n",
       "</table>\n",
       "<p>1710 rows × 46 columns</p>\n",
       "</div>"
      ],
      "text/plain": [
       "      Borough_Bronx  Borough_Brooklyn  Borough_Manhattan  Borough_Queens  \\\n",
       "0                 1                 0                  0               0   \n",
       "1                 1                 0                  0               0   \n",
       "2                 1                 0                  0               0   \n",
       "3                 1                 0                  0               0   \n",
       "4                 1                 0                  0               0   \n",
       "...             ...               ...                ...             ...   \n",
       "1705              0                 0                  0               0   \n",
       "1706              0                 0                  0               0   \n",
       "1707              0                 0                  0               0   \n",
       "1708              0                 0                  0               0   \n",
       "1709              0                 0                  0               0   \n",
       "\n",
       "      Borough_Staten island   Housing  Other jurisdiction    Patrol   Transit  \\\n",
       "0                         0  1.165259           -0.112378  1.616657  0.346693   \n",
       "1                         0  0.844420           -0.469481  0.289162 -0.206801   \n",
       "2                         0  0.623843           -0.737309  0.525481 -0.028254   \n",
       "3                         0  0.182689            0.244726  0.922085  0.203856   \n",
       "4                         0  0.764210            0.200088  0.628228  0.194929   \n",
       "...                     ...       ...                 ...       ...       ...   \n",
       "1705                      1 -1.301194           -1.362240 -1.683586 -1.108460   \n",
       "1706                      1 -1.261089           -1.094412 -1.685641 -1.108460   \n",
       "1707                      1 -1.301194           -1.228326 -1.835652 -1.108460   \n",
       "1708                      1 -1.301194           -1.139050 -1.798663 -1.108460   \n",
       "1709                      1 -1.301194           -1.228326 -1.866476 -1.108460   \n",
       "\n",
       "         18-24  ...  Other vehicular  Passing or lane usage improper  \\\n",
       "0     1.800804  ...        -0.994905                       -0.680099   \n",
       "1     0.533417  ...        -0.994905                       -0.680099   \n",
       "2     0.926129  ...        -0.679618                       -0.680099   \n",
       "3     1.074883  ...        -0.805733                       -0.680099   \n",
       "4     1.116534  ...        -0.742676                       -0.680099   \n",
       "...        ...  ...              ...                             ...   \n",
       "1705 -1.638396  ...        -0.868790                       -0.460864   \n",
       "1706 -1.680047  ...        -0.553503                       -0.387786   \n",
       "1707 -1.799050  ...        -0.742676                       -0.314707   \n",
       "1708 -1.680047  ...        -0.868790                       -0.241629   \n",
       "1709 -1.745499  ...        -0.805733                       -0.533943   \n",
       "\n",
       "      Passing too closely  Prescription medication  \\\n",
       "0               -0.676201                -0.563182   \n",
       "1               -0.676201                -0.813453   \n",
       "2               -0.676201                 0.187630   \n",
       "3               -0.676201                -0.312911   \n",
       "4               -0.676201                -0.062641   \n",
       "...                   ...                      ...   \n",
       "1705            -0.397372                -0.813453   \n",
       "1706            -0.397372                -0.813453   \n",
       "1707            -0.606494                -0.813453   \n",
       "1708            -0.536787                -0.688317   \n",
       "1709            -0.467080                -0.813453   \n",
       "\n",
       "      Traffic control disregarded  Turning improperly  Unsafe lane changing  \\\n",
       "0                       -1.218644           -1.145703             -0.629373   \n",
       "1                       -1.218644           -1.145703             -0.629373   \n",
       "2                       -0.372913           -0.942408             -0.629373   \n",
       "3                       -0.880352           -0.230876             -0.629373   \n",
       "4                       -0.880352           -0.840761             -0.629373   \n",
       "...                           ...                 ...                   ...   \n",
       "1705                    -1.049498           -0.739113             -0.092119   \n",
       "1706                    -0.880352           -1.145703             -0.521922   \n",
       "1707                    -1.049498           -0.942408             -0.521922   \n",
       "1708                    -0.711206           -0.739113             -0.521922   \n",
       "1709                    -0.711206           -1.044056             -0.521922   \n",
       "\n",
       "      Unspecified  year  week  \n",
       "0       -1.127195  2012     1  \n",
       "1       -1.154663  2012    26  \n",
       "2        0.115722  2012    27  \n",
       "3       -0.007883  2012    28  \n",
       "4       -0.097153  2012    29  \n",
       "...           ...   ...   ...  \n",
       "1705    -1.230199  2018    48  \n",
       "1706    -1.175264  2018    49  \n",
       "1707    -1.243933  2018    50  \n",
       "1708    -1.230199  2018    51  \n",
       "1709    -1.257667  2018    52  \n",
       "\n",
       "[1710 rows x 46 columns]"
      ]
     },
     "execution_count": 5,
     "metadata": {},
     "output_type": "execute_result"
    }
   ],
   "source": [
    "## X a trabajar\n",
    "df_procesado"
   ]
  },
  {
   "cell_type": "markdown",
   "metadata": {
    "id": "4BfCXxaUi1Yr"
   },
   "source": [
    "La primera idea de modelamiento fue predecir el 2018 sobre el conjunto de entrenamiento, es decir la información para 2018 será nuestro conjunto de test, con la idea de preservar la naturaleza temporal del problema. (si queremos predecir el 2019 primero veamos como lo hacemos para el 2018)"
   ]
  },
  {
   "cell_type": "markdown",
   "metadata": {
    "id": "kSj_u2E3i1Yr"
   },
   "source": [
    "# 1) Predecir 2018 a partir de los años anteriores"
   ]
  },
  {
   "cell_type": "code",
   "execution_count": 6,
   "metadata": {
    "colab": {
     "base_uri": "https://localhost:8080/"
    },
    "id": "G02PgkbIi1Yr",
    "outputId": "5aafb612-24fc-4198-c38f-d67ff45fa9af"
   },
   "outputs": [
    {
     "name": "stdout",
     "output_type": "stream",
     "text": [
      "El porcentaje utilizado para test es:  17.93103448275862\n"
     ]
    }
   ],
   "source": [
    "## dividimos X e Y en train y test\n",
    "X_test= df_procesado[(df_procesado[\"year\"]==2018)]\n",
    "X_train= df_procesado.drop(list(X_test.index),axis=0)\n",
    "\n",
    "Y_test= y_train[y_train[\"year\"]==2018].drop([\"year\"],axis=1)\n",
    "y_train= y_train[y_train[\"year\"]!=2018].drop([\"year\"],axis=1)\n",
    "print( 'El porcentaje utilizado para test es: ',Y_test.shape[0]/(y_train.shape[0])*100)"
   ]
  },
  {
   "cell_type": "markdown",
   "metadata": {
    "id": "LoS4gIt2i1Yt"
   },
   "source": [
    "Modelo"
   ]
  },
  {
   "cell_type": "code",
   "execution_count": 7,
   "metadata": {
    "id": "ZJ4Os-nAi1Yt"
   },
   "outputs": [],
   "source": [
    "from sklearn import linear_model\n",
    "clf = linear_model.Ridge(alpha=.5)\n",
    "clf.fit(X_train,y_train)\n",
    "y_pred= clf.predict(X_test)"
   ]
  },
  {
   "cell_type": "markdown",
   "metadata": {
    "id": "mmnaEqtJi1Yt"
   },
   "source": [
    "Cuando el output es multidimensional, los modelos de sktlearn automaticamente aplican modelos independientes."
   ]
  },
  {
   "cell_type": "code",
   "execution_count": 8,
   "metadata": {
    "colab": {
     "base_uri": "https://localhost:8080/"
    },
    "id": "MlbtxAk5t2jD",
    "outputId": "73fde3a1-8653-48b1-a8b5-9b2bf46ef8f5"
   },
   "outputs": [
    {
     "data": {
      "text/plain": [
       "1119.8921017978653"
      ]
     },
     "execution_count": 8,
     "metadata": {},
     "output_type": "execute_result"
    }
   ],
   "source": [
    "(mean_squared_error(Y_test['Felony'], y_pred[:,0]) +\n",
    "mean_squared_error(Y_test['Misdemeanor'],y_pred[:,1]) +\n",
    "mean_squared_error(Y_test['Violation'], y_pred[:,2]))/3"
   ]
  },
  {
   "cell_type": "markdown",
   "metadata": {
    "id": "pSIIEPmki1Yu"
   },
   "source": [
    "Como el resultado no fue bueno decidimos dividir el problema de regresión por semana y municipio, dado que es razonable que para diferentes municipios existan diferentes condiciones de delincuencia y por otro lado que existan patrones relevantes por estacionalidad del año por ello decidimos dividir por trimestres."
   ]
  },
  {
   "cell_type": "markdown",
   "metadata": {
    "id": "jEpaVQYBi1Yu"
   },
   "source": [
    "# 2) Modelo por semana y por municipio (igualmente test año 2018)"
   ]
  },
  {
   "cell_type": "code",
   "execution_count": 9,
   "metadata": {
    "id": "ZIoX8jZKqndY"
   },
   "outputs": [],
   "source": [
    "## Prepocesamiento entramiento\n",
    "x_train= pd.read_csv(\"x_train.csv\")\n",
    "y_train= pd.read_csv(\"y_train.csv\")\n",
    "\n",
    "x_train=x_train.drop([\"Other\",\"Unknown\"],axis=1) ##solo tienen ceros\n",
    "\n",
    "categoricas_codificado=pd.get_dummies(list(x_train.dtypes[x_train.dtypes == \"object\"].index))\n",
    "\n",
    "categorica_features = list(x_train.dtypes[x_train.dtypes == \"object\"].index) #columnas categoricas\n",
    "categoricas=x_train.loc[:,categorica_features] #sus datos\n",
    "categoricas_codificado=pd.get_dummies(categoricas)\n",
    "\n",
    "numeric_features = list(x_train.dtypes[x_train.dtypes != \"object\"].index) #columnas numericas\n",
    "numericas=x_train.loc[:,numeric_features] #sus datos\n",
    "numericas= pd.DataFrame(data=numericas, columns= numeric_features)\n",
    "\n",
    "\n",
    "\n",
    "\n",
    "## Estandarización \n",
    "year = numericas.year\n",
    "week = numericas.week\n",
    "df_procesado_2 = numericas.drop([\"year\",\"week\"],axis=1)\n",
    "scaler = StandardScaler()\n",
    "scaler.fit(df_procesado_2)\n",
    "df_procesado_3=pd.DataFrame(data= scaler.transform(df_procesado_2),columns= df_procesado_2.columns)\n",
    "\n",
    "df_procesado_4= pd.concat([categoricas_codificado,df_procesado_3], axis=1, sort=False)\n",
    "df_procesado=pd.concat((df_procesado_4,year,week),axis=1)\n",
    "\n",
    "\n",
    "## obtenemos la informacion de ciudad y semana para el train\n",
    "ciudad=[]\n",
    "semana= []\n",
    "año=[]\n",
    "for i in y_train['year_week_borough']:\n",
    "    aux= i.split('_')\n",
    "    ciudad.append(aux[-1].strip())\n",
    "    semana.append(int(aux[-2].strip()))\n",
    "    año.append(int(aux[-3].strip()))\n",
    "y_train['week'] = semana\n",
    "y_train['city'] = ciudad\n",
    "y_train['year'] = año\n",
    "y_train= y_train.drop('year_week_borough',axis=1)"
   ]
  },
  {
   "cell_type": "code",
   "execution_count": 10,
   "metadata": {
    "colab": {
     "base_uri": "https://localhost:8080/"
    },
    "id": "ibu-ptVKq8_y",
    "outputId": "23a6bf1d-1c44-4564-d35a-177ee2a853e7",
    "scrolled": false
   },
   "outputs": [
    {
     "data": {
      "text/plain": [
       "[(13, 'Bronx'),\n",
       " (26, 'Bronx'),\n",
       " (39, 'Bronx'),\n",
       " (52, 'Bronx'),\n",
       " (13, 'Brooklyn'),\n",
       " (26, 'Brooklyn'),\n",
       " (39, 'Brooklyn'),\n",
       " (52, 'Brooklyn'),\n",
       " (13, 'Manhattan'),\n",
       " (26, 'Manhattan'),\n",
       " (39, 'Manhattan'),\n",
       " (52, 'Manhattan'),\n",
       " (13, 'Queens'),\n",
       " (26, 'Queens'),\n",
       " (39, 'Queens'),\n",
       " (52, 'Queens'),\n",
       " (13, 'Staten island'),\n",
       " (26, 'Staten island'),\n",
       " (39, 'Staten island'),\n",
       " (52, 'Staten island')]"
      ]
     },
     "execution_count": 10,
     "metadata": {},
     "output_type": "execute_result"
    }
   ],
   "source": [
    "## tuplas que tendrán modelos\n",
    "subset=[]\n",
    "\n",
    "for ciudad in y_train['city'].unique():\n",
    "    for rango in [13, 26, 39, 52]:\n",
    "        subset.append((rango,ciudad))\n",
    "subset    "
   ]
  },
  {
   "cell_type": "code",
   "execution_count": 11,
   "metadata": {
    "colab": {
     "base_uri": "https://localhost:8080/"
    },
    "id": "BctMCfSzqvtr",
    "outputId": "b2e08d05-6a2c-4b03-9399-aa388894020a"
   },
   "outputs": [
    {
     "data": {
      "text/plain": [
       "234.26282051282053"
      ]
     },
     "execution_count": 11,
     "metadata": {},
     "output_type": "execute_result"
    }
   ],
   "source": [
    "y_copia= y_train.copy()\n",
    "\n",
    "y_copia['prediccion Felony']= np.nan\n",
    "y_copia['prediccion Misdemeanor']= np.nan\n",
    "y_copia['prediccion Violation']= np.nan\n",
    "\n",
    "for tupla in subset:\n",
    "    sem, ciu = tupla\n",
    "    X= df_procesado[(df_procesado['week'] <= sem) & (df_procesado['week'] > sem-13)  & (df_procesado['Borough_' +str(ciu)] == 1)]\n",
    "    Y= y_train[(y_train['week'] <= sem) &(y_train['week'] > sem-13) & (y_train['city'] == ciu)]\n",
    "    \n",
    "    #print(\"El modelo para:\",sem, ciu, \"tamaño:\", Y.shape[0], '-', round(Y.shape[0]/y_train.shape[0]*100,2))\n",
    "    \n",
    "    Y_test = y_train[(y_train['week'] <= sem) & (y_train['week'] > sem-13) & (y_train['city'] == ciu) & (y_train['year'] == 2018)]\n",
    "    \n",
    "    X_test= df_procesado[(df_procesado['week'] <= sem) & (df_procesado['week'] > sem-13) & (df_procesado['Borough_' +str(ciu)] == 1)& (df_procesado['year'] == 2018)]\n",
    "    \n",
    "    #print('tamaño test:', Y_test.shape[0],'-', round(Y_test.shape[0]/Y.shape[0]*100,2),'tamaño train:', Y.shape[0], '-', round(Y.shape[0]/Y.shape[0]*100,2))\n",
    "    \n",
    "    #Entrenamiento\n",
    "    \n",
    "    clf = linear_model.Ridge(alpha=.5)\n",
    "    clf.fit(X,Y.drop(['week', 'city','year'],axis=1))\n",
    "    y_pred= clf.predict(X_test)\n",
    "    \n",
    "\n",
    "    y_pred[:,0] = [int(max(0, int(x))) for x in y_pred[:,0]]\n",
    "    y_pred[:,1] = [int(max(0, int(x))) for x in y_pred[:,1]]\n",
    "    y_pred[:,2] = [int(max(0, int(x))) for x in y_pred[:,2]]\n",
    "    \n",
    "    y_copia.loc[list(Y_test.index), ['prediccion Felony', 'prediccion Misdemeanor', 'prediccion Violation']] = y_pred.tolist()\n",
    "\n",
    "\n",
    "y_2018= y_copia[y_copia['year']==2018]\n",
    "(mean_squared_error(y_2018['Felony'], y_2018['prediccion Felony']) +\n",
    "mean_squared_error(y_2018['Misdemeanor'], y_2018['prediccion Misdemeanor']) +\n",
    "mean_squared_error(y_2018['Violation'], y_2018['prediccion Violation']))/3"
   ]
  },
  {
   "cell_type": "markdown",
   "metadata": {
    "id": "NOJ2kinPi1Yw"
   },
   "source": [
    "Mejoró el modelo!!!(divide y vencerás)"
   ]
  },
  {
   "cell_type": "markdown",
   "metadata": {
    "id": "dYx96x7xi1Yw"
   },
   "source": [
    "Apesar de mejorar el modelo aún es pobre, para ellos graficaremos nuestras predicciones versus los valores reales, asi bajo esta técnica (propia) si los puntos tienden a formar la recta identidad es porque el predictor es bueno."
   ]
  },
  {
   "cell_type": "markdown",
   "metadata": {
    "id": "xPf3EwvCi1Yw"
   },
   "source": [
    "# Evaluación vía gráficas"
   ]
  },
  {
   "cell_type": "code",
   "execution_count": 12,
   "metadata": {
    "colab": {
     "base_uri": "https://localhost:8080/",
     "height": 296
    },
    "id": "2zNU1dJxuyKo",
    "outputId": "0b635d30-5d13-47b5-a0ab-d3777ce581f0"
   },
   "outputs": [
    {
     "data": {
      "text/plain": [
       "<AxesSubplot:xlabel='Felony'>"
      ]
     },
     "execution_count": 12,
     "metadata": {},
     "output_type": "execute_result"
    },
    {
     "data": {
      "image/png": "[encoded data removed]",
      "text/plain": [
       "<Figure size 432x288 with 1 Axes>"
      ]
     },
     "metadata": {
      "needs_background": "light"
     },
     "output_type": "display_data"
    }
   ],
   "source": [
    "sns.distplot(y_2018.Felony)"
   ]
  },
  {
   "cell_type": "code",
   "execution_count": 13,
   "metadata": {
    "colab": {
     "base_uri": "https://localhost:8080/",
     "height": 296
    },
    "id": "H8S9CFgdvPB7",
    "outputId": "d77ff360-c399-45b1-ea28-05ceedf08d91"
   },
   "outputs": [
    {
     "data": {
      "text/plain": [
       "<AxesSubplot:xlabel='Misdemeanor'>"
      ]
     },
     "execution_count": 13,
     "metadata": {},
     "output_type": "execute_result"
    },
    {
     "data": {
      "image/png": "[encoded data removed]",
      "text/plain": [
       "<Figure size 432x288 with 1 Axes>"
      ]
     },
     "metadata": {
      "needs_background": "light"
     },
     "output_type": "display_data"
    }
   ],
   "source": [
    "sns.distplot(y_2018.Misdemeanor)"
   ]
  },
  {
   "cell_type": "code",
   "execution_count": 14,
   "metadata": {
    "colab": {
     "base_uri": "https://localhost:8080/",
     "height": 300
    },
    "id": "VfG-6jZHi1Yw",
    "outputId": "5733835b-53ae-449d-b09e-cd43bcb0f313"
   },
   "outputs": [
    {
     "data": {
      "text/plain": [
       "<AxesSubplot:xlabel='Violation'>"
      ]
     },
     "execution_count": 14,
     "metadata": {},
     "output_type": "execute_result"
    },
    {
     "data": {
      "image/png": "[encoded data removed]",
      "text/plain": [
       "<Figure size 432x288 with 1 Axes>"
      ]
     },
     "metadata": {
      "needs_background": "light"
     },
     "output_type": "display_data"
    }
   ],
   "source": [
    "sns.distplot(y_2018.Violation)"
   ]
  },
  {
   "cell_type": "markdown",
   "metadata": {
    "id": "3fd8RzwFveK9"
   },
   "source": [
    "Violation está sesgado a ser cero"
   ]
  },
  {
   "cell_type": "code",
   "execution_count": 15,
   "metadata": {
    "colab": {
     "base_uri": "https://localhost:8080/",
     "height": 296
    },
    "id": "C24HPGkJi1Yw",
    "outputId": "6d8d12e7-112a-454d-fb65-b5b2640896eb"
   },
   "outputs": [
    {
     "data": {
      "text/plain": [
       "<AxesSubplot:xlabel='Violation', ylabel='prediccion Violation'>"
      ]
     },
     "execution_count": 15,
     "metadata": {},
     "output_type": "execute_result"
    },
    {
     "data": {
      "image/png": "[encoded data removed]",
      "text/plain": [
       "<Figure size 432x288 with 1 Axes>"
      ]
     },
     "metadata": {
      "needs_background": "light"
     },
     "output_type": "display_data"
    }
   ],
   "source": [
    "#algo está pasando\n",
    "sns.scatterplot(\n",
    "    x='Violation',\n",
    "    y='prediccion Violation',\n",
    "    data=y_2018,\n",
    ")   "
   ]
  },
  {
   "cell_type": "code",
   "execution_count": 16,
   "metadata": {
    "colab": {
     "base_uri": "https://localhost:8080/",
     "height": 296
    },
    "id": "U7_Qzx1Mi1Yx",
    "outputId": "ff476b85-87b6-4a26-bd8d-7c09463a00b1"
   },
   "outputs": [
    {
     "data": {
      "text/plain": [
       "<AxesSubplot:xlabel='Misdemeanor', ylabel='prediccion Misdemeanor'>"
      ]
     },
     "execution_count": 16,
     "metadata": {},
     "output_type": "execute_result"
    },
    {
     "data": {
      "image/png": "[encoded data removed]",
      "text/plain": [
       "<Figure size 432x288 with 1 Axes>"
      ]
     },
     "metadata": {
      "needs_background": "light"
     },
     "output_type": "display_data"
    }
   ],
   "source": [
    "## bien\n",
    "sns.scatterplot(\n",
    "    x='Misdemeanor',\n",
    "    y='prediccion Misdemeanor',\n",
    "    data=y_2018,\n",
    ")   "
   ]
  },
  {
   "cell_type": "code",
   "execution_count": 17,
   "metadata": {
    "colab": {
     "base_uri": "https://localhost:8080/",
     "height": 296
    },
    "id": "H6PdsobEi1Yx",
    "outputId": "3b93fde5-e289-418d-be08-b55c05e8603c",
    "scrolled": false
   },
   "outputs": [
    {
     "data": {
      "text/plain": [
       "<AxesSubplot:xlabel='Felony', ylabel='prediccion Felony'>"
      ]
     },
     "execution_count": 17,
     "metadata": {},
     "output_type": "execute_result"
    },
    {
     "data": {
      "image/png": "[encoded data removed]",
      "text/plain": [
       "<Figure size 432x288 with 1 Axes>"
      ]
     },
     "metadata": {
      "needs_background": "light"
     },
     "output_type": "display_data"
    }
   ],
   "source": [
    "#bien\n",
    "sns.scatterplot(\n",
    "    x='Felony',\n",
    "    y='prediccion Felony',\n",
    "    data=y_2018,\n",
    ")   "
   ]
  },
  {
   "cell_type": "markdown",
   "metadata": {
    "id": "55IYIt2Ji1Yx"
   },
   "source": [
    "# 3) Añadimos técnica de regresión multiOutput"
   ]
  },
  {
   "cell_type": "code",
   "execution_count": 18,
   "metadata": {
    "id": "a66uj6Boi1Yz"
   },
   "outputs": [],
   "source": [
    "from sklearn.multioutput import RegressorChain"
   ]
  },
  {
   "cell_type": "markdown",
   "metadata": {
    "id": "1_cB7Wx1i1Yz"
   },
   "source": [
    "Esta técnica consiste en realizar regresiones en orden incorporando en la regresión i+1 la información de i. Así como vimos que el delito Violation es que el peor estamos prediciendo, la idea sería utilizarlo como último regresor entrenable de manera que la información de los otros dos ayude a mejorar el error cuadrático medio. \n",
    " \n",
    "RegressorChain requiere una lista de ordenes a utilizar, la dejamos por default porque coincide que Violation es el último."
   ]
  },
  {
   "cell_type": "code",
   "execution_count": 19,
   "metadata": {
    "colab": {
     "base_uri": "https://localhost:8080/"
    },
    "id": "4Fp70AbVr5fI",
    "outputId": "11c59ebc-0d0a-41e7-8d1f-355b9a81d06d"
   },
   "outputs": [
    {
     "data": {
      "text/plain": [
       "234.26282051282053"
      ]
     },
     "execution_count": 19,
     "metadata": {},
     "output_type": "execute_result"
    }
   ],
   "source": [
    "y_copia= y_train.copy()\n",
    "\n",
    "y_copia['prediccion Felony']= np.nan\n",
    "y_copia['prediccion Misdemeanor']= np.nan\n",
    "y_copia['prediccion Violation']= np.nan\n",
    "\n",
    "for tupla in subset:\n",
    "    sem, ciu = tupla\n",
    "    X= df_procesado[(df_procesado['week'] <= sem) & (df_procesado['week'] > sem-13)  & (df_procesado['Borough_' +str(ciu)] == 1)]\n",
    "    Y= y_train[(y_train['week'] <= sem) &(y_train['week'] > sem-13) & (y_train['city'] == ciu)]\n",
    "    \n",
    "    #print(\"El modelo para:\",sem, ciu, \"tamaño:\", Y.shape[0], '-', round(Y.shape[0]/y_train.shape[0]*100,2))\n",
    "    \n",
    "    Y_test = y_train[(y_train['week'] <= sem) & (y_train['week'] > sem-13) & (y_train['city'] == ciu) & (y_train['year'] == 2018)]\n",
    "    \n",
    "    X_test= df_procesado[(df_procesado['week'] <= sem) & (df_procesado['week'] > sem-13) & (df_procesado['Borough_' +str(ciu)] == 1)& (df_procesado['year'] == 2018)]\n",
    "    \n",
    "    #print('tamaño test:', Y_test.shape[0],'-', round(Y_test.shape[0]/Y.shape[0]*100,2),'tamaño train:', Y.shape[0], '-', round(Y.shape[0]/Y.shape[0]*100,2))\n",
    "    \n",
    "    #Entrenamiento\n",
    "    \n",
    "    clf = linear_model.Ridge(alpha=.5)\n",
    "    model = RegressorChain(clf)\n",
    "    model.fit(X,Y.drop(['week', 'city','year'],axis=1))\n",
    "    y_pred= model.predict(X_test)\n",
    "    \n",
    "\n",
    "    y_pred[:,0] = [int(max(0, int(x))) for x in y_pred[:,0]]\n",
    "    y_pred[:,1] = [int(max(0, int(x))) for x in y_pred[:,1]]\n",
    "    y_pred[:,2] = [int(max(0, int(x))) for x in y_pred[:,2]]\n",
    "    \n",
    "    y_copia.loc[list(Y_test.index), ['prediccion Felony', 'prediccion Misdemeanor', 'prediccion Violation']] = y_pred.tolist()\n",
    "\n",
    "y_2018= y_copia[y_copia['year']==2018]\n",
    "\n",
    "(mean_squared_error(y_2018['Felony'], y_2018['prediccion Felony']) +\n",
    "mean_squared_error(y_2018['Misdemeanor'], y_2018['prediccion Misdemeanor']) +\n",
    "mean_squared_error(y_2018['Violation'], y_2018['prediccion Violation']))/3"
   ]
  },
  {
   "cell_type": "markdown",
   "metadata": {
    "id": "2o-Tg4qSi1Y5"
   },
   "source": [
    "# 4) Selección de modelos e hiperparámetros del mejor.\n"
   ]
  },
  {
   "cell_type": "markdown",
   "metadata": {
    "id": "9St1R1b04r1S"
   },
   "source": [
    "Probaremos diferentes modelos"
   ]
  },
  {
   "cell_type": "code",
   "execution_count": 20,
   "metadata": {
    "id": "dMrAHTG_i1Y5"
   },
   "outputs": [],
   "source": [
    "## Prepocesamiento entramiento\n",
    "x_train= pd.read_csv(\"x_train.csv\")\n",
    "y_train= pd.read_csv(\"y_train.csv\")\n",
    "\n",
    "x_train=x_train.drop([\"Other\",\"Unknown\"],axis=1) ##solo tienen ceros\n",
    "\n",
    "categoricas_codificado=pd.get_dummies(list(x_train.dtypes[x_train.dtypes == \"object\"].index))\n",
    "\n",
    "categorica_features = list(x_train.dtypes[x_train.dtypes == \"object\"].index) #columnas categoricas\n",
    "categoricas=x_train.loc[:,categorica_features] #sus datos\n",
    "categoricas_codificado=pd.get_dummies(categoricas)\n",
    "\n",
    "numeric_features = list(x_train.dtypes[x_train.dtypes != \"object\"].index) #columnas numericas\n",
    "numericas=x_train.loc[:,numeric_features] #sus datos\n",
    "numericas= pd.DataFrame(data=numericas, columns= numeric_features)\n",
    "\n",
    "\n",
    "\n",
    "\n",
    "## Estandarización \n",
    "year = numericas.year\n",
    "week = numericas.week\n",
    "df_procesado_2 = numericas.drop([\"year\",\"week\"],axis=1)\n",
    "scaler = StandardScaler()\n",
    "scaler.fit(df_procesado_2)\n",
    "df_procesado_3=pd.DataFrame(data= scaler.transform(df_procesado_2),columns= df_procesado_2.columns)\n",
    "\n",
    "df_procesado_4= pd.concat([categoricas_codificado,df_procesado_3], axis=1, sort=False)\n",
    "df_procesado=pd.concat((df_procesado_4,year,week),axis=1)\n",
    "\n",
    "\n",
    "## obtenemos la informacion de ciudad y semana para el train\n",
    "ciudad=[]\n",
    "semana= []\n",
    "año=[]\n",
    "for i in y_train['year_week_borough']:\n",
    "    aux= i.split('_')\n",
    "    ciudad.append(aux[-1].strip())\n",
    "    semana.append(int(aux[-2].strip()))\n",
    "    año.append(int(aux[-3].strip()))\n",
    "y_train['week'] = semana\n",
    "y_train['city'] = ciudad\n",
    "y_train['year'] = año\n",
    "y_train= y_train.drop('year_week_borough',axis=1)"
   ]
  },
  {
   "cell_type": "markdown",
   "metadata": {
    "id": "y3KABRWYlHFa"
   },
   "source": [
    "Regrsión lineal Ridge:"
   ]
  },
  {
   "cell_type": "code",
   "execution_count": 21,
   "metadata": {
    "colab": {
     "base_uri": "https://localhost:8080/"
    },
    "id": "hK4dovlNi1Y5",
    "outputId": "dfb61eae-8d6b-4272-88df-3e8eefc6e435"
   },
   "outputs": [
    {
     "data": {
      "text/plain": [
       "234.26282051282053"
      ]
     },
     "execution_count": 21,
     "metadata": {},
     "output_type": "execute_result"
    }
   ],
   "source": [
    "\n",
    "\n",
    "y_copia= y_train.copy()\n",
    "\n",
    "y_copia['prediccion Felony']= np.nan\n",
    "y_copia['prediccion Misdemeanor']= np.nan\n",
    "y_copia['prediccion Violation']= np.nan\n",
    "\n",
    "for tupla in subset:\n",
    "    sem, ciu = tupla\n",
    "    X= df_procesado[(df_procesado['week'] <= sem) & (df_procesado['week'] > sem-13)  & (df_procesado['Borough_' +str(ciu)] == 1)]\n",
    "    Y= y_train[(y_train['week'] <= sem) &(y_train['week'] > sem-13) & (y_train['city'] == ciu)]\n",
    "    \n",
    "    #print(\"El modelo para:\",sem, ciu, \"tamaño:\", Y.shape[0], '-', round(Y.shape[0]/y_train.shape[0]*100,2))\n",
    "    \n",
    "    Y_test = y_train[(y_train['week'] <= sem) & (y_train['week'] > sem-13) & (y_train['city'] == ciu) & (y_train['year'] == 2018)]\n",
    "    \n",
    "    X_test= df_procesado[(df_procesado['week'] <= sem) & (df_procesado['week'] > sem-13) & (df_procesado['Borough_' +str(ciu)] == 1)& (df_procesado['year'] == 2018)]\n",
    "    \n",
    "    #print('tamaño test:', Y_test.shape[0],'-', round(Y_test.shape[0]/Y.shape[0]*100,2),'tamaño train:', Y.shape[0], '-', round(Y.shape[0]/Y.shape[0]*100,2))\n",
    "    \n",
    "    #Entrenamiento\n",
    "    \n",
    "    clf = linear_model.Ridge(alpha=.5)\n",
    "    model = RegressorChain(clf)\n",
    "    model.fit(X,Y.drop(['week', 'city','year'],axis=1))\n",
    "    y_pred= model.predict(X_test)\n",
    "    \n",
    "\n",
    "    y_pred[:,0] = [int(max(0, int(x))) for x in y_pred[:,0]]\n",
    "    y_pred[:,1] = [int(max(0, int(x))) for x in y_pred[:,1]]\n",
    "    y_pred[:,2] = [int(max(0, int(x))) for x in y_pred[:,2]]\n",
    "    \n",
    "    y_copia.loc[list(Y_test.index), ['prediccion Felony', 'prediccion Misdemeanor', 'prediccion Violation']] = y_pred.tolist()\n",
    "y_2018= y_copia[y_copia['year']==2018]\n",
    "\n",
    "(mean_squared_error(y_2018['Felony'], y_2018['prediccion Felony']) +\n",
    "mean_squared_error(y_2018['Misdemeanor'], y_2018['prediccion Misdemeanor']) +\n",
    "mean_squared_error(y_2018['Violation'], y_2018['prediccion Violation']))/3"
   ]
  },
  {
   "cell_type": "markdown",
   "metadata": {
    "id": "SN8R0WRglcBT"
   },
   "source": [
    "SVM en regresión:"
   ]
  },
  {
   "cell_type": "code",
   "execution_count": 22,
   "metadata": {
    "colab": {
     "base_uri": "https://localhost:8080/"
    },
    "id": "5h6Vpqvmi1Y5",
    "outputId": "5711ae64-c6cc-4325-88a6-b82df61e8a44"
   },
   "outputs": [
    {
     "data": {
      "text/plain": [
       "32351.05641025641"
      ]
     },
     "execution_count": 22,
     "metadata": {},
     "output_type": "execute_result"
    }
   ],
   "source": [
    "\n",
    "from sklearn.svm import SVR\n",
    "\n",
    "y_copia= y_train.copy()\n",
    "\n",
    "y_copia['prediccion Felony']= np.nan\n",
    "y_copia['prediccion Misdemeanor']= np.nan\n",
    "y_copia['prediccion Violation']= np.nan\n",
    "\n",
    "for tupla in subset:\n",
    "    sem, ciu = tupla\n",
    "    X= df_procesado[(df_procesado['week'] <= sem) & (df_procesado['week'] > sem-13)  & (df_procesado['Borough_' +str(ciu)] == 1)]\n",
    "    Y= y_train[(y_train['week'] <= sem) &(y_train['week'] > sem-13) & (y_train['city'] == ciu)]\n",
    "    \n",
    "    #print(\"El modelo para:\",sem, ciu, \"tamaño:\", Y.shape[0], '-', round(Y.shape[0]/y_train.shape[0]*100,2))\n",
    "    \n",
    "    Y_test = y_train[(y_train['week'] <= sem) & (y_train['week'] > sem-13) & (y_train['city'] == ciu) & (y_train['year'] == 2018)]\n",
    "    \n",
    "    X_test= df_procesado[(df_procesado['week'] <= sem) & (df_procesado['week'] > sem-13) & (df_procesado['Borough_' +str(ciu)] == 1)& (df_procesado['year'] == 2018)]\n",
    "    \n",
    "    #print('tamaño test:', Y_test.shape[0],'-', round(Y_test.shape[0]/Y.shape[0]*100,2),'tamaño train:', Y.shape[0], '-', round(Y.shape[0]/Y.shape[0]*100,2))\n",
    "    \n",
    "    #Entrenamiento\n",
    "    \n",
    "    clf = SVR()\n",
    "    model = RegressorChain(clf)\n",
    "    model.fit(X,Y.drop(['week', 'city','year'],axis=1))\n",
    "    y_pred= model.predict(X_test)\n",
    "    \n",
    "\n",
    "    y_pred[:,0] = [int(max(0, int(x))) for x in y_pred[:,0]]\n",
    "    y_pred[:,1] = [int(max(0, int(x))) for x in y_pred[:,1]]\n",
    "    y_pred[:,2] = [int(max(0, int(x))) for x in y_pred[:,2]]\n",
    "    \n",
    "    y_copia.loc[list(Y_test.index), ['prediccion Felony', 'prediccion Misdemeanor', 'prediccion Violation']] = y_pred.tolist()\n",
    "y_2018= y_copia[y_copia['year']==2018]\n",
    "\n",
    "(mean_squared_error(y_2018['Felony'], y_2018['prediccion Felony']) +\n",
    "mean_squared_error(y_2018['Misdemeanor'], y_2018['prediccion Misdemeanor']) +\n",
    "mean_squared_error(y_2018['Violation'], y_2018['prediccion Violation']))/3"
   ]
  },
  {
   "cell_type": "markdown",
   "metadata": {
    "id": "veQBDWuJli20"
   },
   "source": [
    "Regresión logistica:"
   ]
  },
  {
   "cell_type": "code",
   "execution_count": 23,
   "metadata": {
    "colab": {
     "base_uri": "https://localhost:8080/"
    },
    "id": "SGI2nYHhi1Y5",
    "outputId": "65dc0dad-4485-425b-8165-c732b5caac92"
   },
   "outputs": [
    {
     "data": {
      "text/plain": [
       "1660.9615384615383"
      ]
     },
     "execution_count": 23,
     "metadata": {},
     "output_type": "execute_result"
    }
   ],
   "source": [
    "from sklearn.linear_model import LogisticRegression\n",
    "\n",
    "y_copia= y_train.copy()\n",
    "\n",
    "y_copia['prediccion Felony']= np.nan\n",
    "y_copia['prediccion Misdemeanor']= np.nan\n",
    "y_copia['prediccion Violation']= np.nan\n",
    "\n",
    "for tupla in subset:\n",
    "    sem, ciu = tupla\n",
    "    X= df_procesado[(df_procesado['week'] <= sem) & (df_procesado['week'] > sem-13)  & (df_procesado['Borough_' +str(ciu)] == 1)]\n",
    "    Y= y_train[(y_train['week'] <= sem) &(y_train['week'] > sem-13) & (y_train['city'] == ciu)]\n",
    "    \n",
    "    #print(\"El modelo para:\",sem, ciu, \"tamaño:\", Y.shape[0], '-', round(Y.shape[0]/y_train.shape[0]*100,2))\n",
    "    \n",
    "    Y_test = y_train[(y_train['week'] <= sem) & (y_train['week'] > sem-13) & (y_train['city'] == ciu) & (y_train['year'] == 2018)]\n",
    "    \n",
    "    X_test= df_procesado[(df_procesado['week'] <= sem) & (df_procesado['week'] > sem-13) & (df_procesado['Borough_' +str(ciu)] == 1)& (df_procesado['year'] == 2018)]\n",
    "    \n",
    "    #print('tamaño test:', Y_test.shape[0],'-', round(Y_test.shape[0]/Y.shape[0]*100,2),'tamaño train:', Y.shape[0], '-', round(Y.shape[0]/Y.shape[0]*100,2))\n",
    "    \n",
    "    #Entrenamiento\n",
    "    \n",
    "    clf = LogisticRegression()\n",
    "    model = RegressorChain(clf)\n",
    "    model.fit(X,Y.drop(['week', 'city','year'],axis=1))\n",
    "    y_pred= model.predict(X_test)\n",
    "    \n",
    "\n",
    "    y_pred[:,0] = [int(max(0, int(x))) for x in y_pred[:,0]]\n",
    "    y_pred[:,1] = [int(max(0, int(x))) for x in y_pred[:,1]]\n",
    "    y_pred[:,2] = [int(max(0, int(x))) for x in y_pred[:,2]]\n",
    "    \n",
    "    y_copia.loc[list(Y_test.index), ['prediccion Felony', 'prediccion Misdemeanor', 'prediccion Violation']] = y_pred.tolist()\n",
    "y_2018= y_copia[y_copia['year']==2018]\n",
    "\n",
    "(mean_squared_error(y_2018['Felony'], y_2018['prediccion Felony']) +\n",
    "mean_squared_error(y_2018['Misdemeanor'], y_2018['prediccion Misdemeanor']) +\n",
    "mean_squared_error(y_2018['Violation'], y_2018['prediccion Violation']))/3"
   ]
  },
  {
   "cell_type": "markdown",
   "metadata": {
    "id": "8oBworjelqO_"
   },
   "source": [
    "Regresión lineal Lasso:"
   ]
  },
  {
   "cell_type": "code",
   "execution_count": 24,
   "metadata": {
    "colab": {
     "base_uri": "https://localhost:8080/"
    },
    "id": "9zM2uq0hi1Y6",
    "outputId": "41631ed5-9c09-4a93-c8b6-be5aa61ad03b"
   },
   "outputs": [
    {
     "data": {
      "text/plain": [
       "292.8884615384615"
      ]
     },
     "execution_count": 24,
     "metadata": {},
     "output_type": "execute_result"
    }
   ],
   "source": [
    "\n",
    "y_copia= y_train.copy()\n",
    "\n",
    "y_copia['prediccion Felony']= np.nan\n",
    "y_copia['prediccion Misdemeanor']= np.nan\n",
    "y_copia['prediccion Violation']= np.nan\n",
    "\n",
    "for tupla in subset:\n",
    "    sem, ciu = tupla\n",
    "    X= df_procesado[(df_procesado['week'] <= sem) & (df_procesado['week'] > sem-13)  & (df_procesado['Borough_' +str(ciu)] == 1)]\n",
    "    Y= y_train[(y_train['week'] <= sem) &(y_train['week'] > sem-13) & (y_train['city'] == ciu)]\n",
    "    \n",
    "    #print(\"El modelo para:\",sem, ciu, \"tamaño:\", Y.shape[0], '-', round(Y.shape[0]/y_train.shape[0]*100,2))\n",
    "    \n",
    "    Y_test = y_train[(y_train['week'] <= sem) & (y_train['week'] > sem-13) & (y_train['city'] == ciu) & (y_train['year'] == 2018)]\n",
    "    \n",
    "    X_test= df_procesado[(df_procesado['week'] <= sem) & (df_procesado['week'] > sem-13) & (df_procesado['Borough_' +str(ciu)] == 1)& (df_procesado['year'] == 2018)]\n",
    "    \n",
    "    #print('tamaño test:', Y_test.shape[0],'-', round(Y_test.shape[0]/Y.shape[0]*100,2),'tamaño train:', Y.shape[0], '-', round(Y.shape[0]/Y.shape[0]*100,2))\n",
    "    \n",
    "    #Entrenamiento\n",
    "    \n",
    "    clf = linear_model.Lasso(alpha=.5)\n",
    "    model = RegressorChain(clf)\n",
    "    model.fit(X,Y.drop(['week', 'city','year'],axis=1))\n",
    "    y_pred= model.predict(X_test)\n",
    "    \n",
    "\n",
    "    y_pred[:,0] = [int(max(0, int(x))) for x in y_pred[:,0]]\n",
    "    y_pred[:,1] = [int(max(0, int(x))) for x in y_pred[:,1]]\n",
    "    y_pred[:,2] = [int(max(0, int(x))) for x in y_pred[:,2]]\n",
    "    \n",
    "    y_copia.loc[list(Y_test.index), ['prediccion Felony', 'prediccion Misdemeanor', 'prediccion Violation']] = y_pred.tolist()\n",
    "y_2018= y_copia[y_copia['year']==2018]\n",
    "\n",
    "(mean_squared_error(y_2018['Felony'], y_2018['prediccion Felony']) +\n",
    "mean_squared_error(y_2018['Misdemeanor'], y_2018['prediccion Misdemeanor']) +\n",
    "mean_squared_error(y_2018['Violation'], y_2018['prediccion Violation']))/3"
   ]
  },
  {
   "cell_type": "markdown",
   "metadata": {
    "id": "RsM4lJW2lyBU"
   },
   "source": [
    "Dado que la regresión Ridge obtuvo el menor error cuadrático medio en promedio de la tres regresiones, encontraremos su mejor hiper parámetro $\\alpha$, esto lo haremos para cada submodelo estacionalidad-municipio con los cuales estamos trabajando."
   ]
  },
  {
   "cell_type": "code",
   "execution_count": 25,
   "metadata": {
    "colab": {
     "base_uri": "https://localhost:8080/"
    },
    "id": "oxX5cPQ1i1Y7",
    "outputId": "f6febf82-9f8d-4dc4-9def-66ad73eff2c6"
   },
   "outputs": [
    {
     "name": "stdout",
     "output_type": "stream",
     "text": [
      "el mejor  0.1 modelo  13 Bronx\n",
      "el mejor  0.9 modelo  26 Bronx\n",
      "el mejor  1 modelo  39 Bronx\n",
      "el mejor  0.1 modelo  52 Bronx\n",
      "el mejor  0.1 modelo  13 Brooklyn\n",
      "el mejor  0.1 modelo  26 Brooklyn\n",
      "el mejor  1 modelo  39 Brooklyn\n",
      "el mejor  1 modelo  52 Brooklyn\n",
      "el mejor  1 modelo  13 Manhattan\n",
      "el mejor  0.1 modelo  26 Manhattan\n",
      "el mejor  0.1 modelo  39 Manhattan\n",
      "el mejor  0.1 modelo  52 Manhattan\n",
      "el mejor  1 modelo  13 Queens\n",
      "el mejor  1 modelo  26 Queens\n",
      "el mejor  1 modelo  39 Queens\n",
      "el mejor  0.8 modelo  52 Queens\n",
      "el mejor  1 modelo  13 Staten island\n",
      "el mejor  1 modelo  26 Staten island\n",
      "el mejor  0.9 modelo  39 Staten island\n",
      "el mejor  0.1 modelo  52 Staten island\n"
     ]
    }
   ],
   "source": [
    "from sklearn.model_selection import GridSearchCV\n",
    "\n",
    "y_copia= y_train.copy()\n",
    "\n",
    "y_copia['prediccion Felony']= np.nan\n",
    "y_copia['prediccion Misdemeanor']= np.nan\n",
    "y_copia['prediccion Violation']= np.nan\n",
    "\n",
    "parametros_modelos=[]\n",
    "\n",
    "for tupla in subset:\n",
    "    sem, ciu = tupla\n",
    "    X= df_procesado[(df_procesado['week'] <= sem) & (df_procesado['week'] > sem-13)  & (df_procesado['Borough_' +str(ciu)] == 1)]\n",
    "    Y= y_train[(y_train['week'] <= sem) &(y_train['week'] > sem-13) & (y_train['city'] == ciu)]\n",
    "    \n",
    "    #print(\"El modelo para:\",sem, ciu, \"tamaño:\", Y.shape[0], '-', round(Y.shape[0]/y_train.shape[0]*100,2))\n",
    "    \n",
    "    Y_test = y_train[(y_train['week'] <= sem) & (y_train['week'] > sem-13) & (y_train['city'] == ciu) & (y_train['year'] == 2018)]\n",
    "    \n",
    "    X_test= df_procesado[(df_procesado['week'] <= sem) & (df_procesado['week'] > sem-13) & (df_procesado['Borough_' +str(ciu)] == 1)& (df_procesado['year'] == 2018)]\n",
    "    \n",
    "    #print('tamaño test:', Y_test.shape[0],'-', round(Y_test.shape[0]/Y.shape[0]*100,2),'tamaño train:', Y.shape[0], '-', round(Y.shape[0]/Y.shape[0]*100,2))\n",
    "    \n",
    "    #Entrenamiento\n",
    "    maxi=0\n",
    "    for a in [.1,.2,.3,.4,.5,.6,.7,.8,.9,1]:\n",
    "        clf = linear_model.Ridge(alpha= a)\n",
    "        model = RegressorChain(clf)\n",
    "        model.fit(X,Y.drop(['week', 'city','year'],axis=1))\n",
    "        y_pred= model.predict(X_test)\n",
    "\n",
    "\n",
    "        y_pred[:,0] = [int(max(0, int(x))) for x in y_pred[:,0]]\n",
    "        y_pred[:,1] = [int(max(0, int(x))) for x in y_pred[:,1]]\n",
    "        y_pred[:,2] = [int(max(0, int(x))) for x in y_pred[:,2]]\n",
    "        \n",
    "\n",
    "        s= (mean_squared_error(Y_test['Felony'], y_pred[:,0]) +mean_squared_error(Y_test['Misdemeanor'],y_pred[:,1]) + mean_squared_error(Y_test['Violation'], y_pred[:,2]))/3\n",
    "        if s>maxi:\n",
    "            maxi=s\n",
    "            mejor_a=a\n",
    "    print(\"el mejor \",mejor_a,\"modelo \", sem,ciu)\n",
    "    parametros_modelos.append((sem,ciu,mejor_a))"
   ]
  },
  {
   "cell_type": "code",
   "execution_count": 26,
   "metadata": {
    "colab": {
     "base_uri": "https://localhost:8080/"
    },
    "id": "JnB22d8zi1Y7",
    "outputId": "b47abeef-9998-4371-a07a-1da8bc104e22"
   },
   "outputs": [
    {
     "data": {
      "text/plain": [
       "[(13, 'Bronx', 0.1),\n",
       " (26, 'Bronx', 0.9),\n",
       " (39, 'Bronx', 1),\n",
       " (52, 'Bronx', 0.1),\n",
       " (13, 'Brooklyn', 0.1),\n",
       " (26, 'Brooklyn', 0.1),\n",
       " (39, 'Brooklyn', 1),\n",
       " (52, 'Brooklyn', 1),\n",
       " (13, 'Manhattan', 1),\n",
       " (26, 'Manhattan', 0.1),\n",
       " (39, 'Manhattan', 0.1),\n",
       " (52, 'Manhattan', 0.1),\n",
       " (13, 'Queens', 1),\n",
       " (26, 'Queens', 1),\n",
       " (39, 'Queens', 1),\n",
       " (52, 'Queens', 0.8),\n",
       " (13, 'Staten island', 1),\n",
       " (26, 'Staten island', 1),\n",
       " (39, 'Staten island', 0.9),\n",
       " (52, 'Staten island', 0.1)]"
      ]
     },
     "execution_count": 26,
     "metadata": {},
     "output_type": "execute_result"
    }
   ],
   "source": [
    "parametros_modelos"
   ]
  },
  {
   "cell_type": "markdown",
   "metadata": {
    "id": "6nTe3-TMkOvC"
   },
   "source": [
    "# Predicciones para el test original: 1er modelo: Score 24 en Kaggle"
   ]
  },
  {
   "cell_type": "markdown",
   "metadata": {
    "id": "ATUBsLJA0czi"
   },
   "source": [
    "Este modelo no se estandariza y ocupa la misma regresión lineal ridge con parámetro 0.5 para todos los sub modelos."
   ]
  },
  {
   "cell_type": "code",
   "execution_count": 27,
   "metadata": {
    "id": "0FbaJ_FnkOvC"
   },
   "outputs": [],
   "source": [
    "## Prepocesamiento entramiento\n",
    "x_train= pd.read_csv(\"x_train.csv\")\n",
    "y_train= pd.read_csv(\"y_train.csv\")\n",
    "\n",
    "x_train=x_train.drop([\"Other\",\"Unknown\"],axis=1) ##solo tienen ceros\n",
    "\n",
    "categoricas_codificado=pd.get_dummies(list(x_train.dtypes[x_train.dtypes == \"object\"].index))\n",
    "\n",
    "categorica_features = list(x_train.dtypes[x_train.dtypes == \"object\"].index) #columnas categoricas\n",
    "categoricas=x_train.loc[:,categorica_features] #sus datos\n",
    "categoricas_codificado=pd.get_dummies(categoricas)\n",
    "\n",
    "numeric_features = list(x_train.dtypes[x_train.dtypes != \"object\"].index) #columnas numericas\n",
    "numericas=x_train.loc[:,numeric_features] #sus datos\n",
    "numericas= pd.DataFrame(data=numericas, columns= numeric_features)\n",
    "\n",
    "\n",
    "df_procesado= pd.concat([categoricas_codificado,numericas], axis=1, sort=False)\n",
    "\n",
    "\n",
    "\n"
   ]
  },
  {
   "cell_type": "code",
   "execution_count": 28,
   "metadata": {
    "id": "4fcjnt7vkOvC"
   },
   "outputs": [],
   "source": [
    "## leemos test\n",
    "y_test_p = pd.read_csv(\"y_test_pattern.csv\")\n",
    "x_test= pd.read_csv(\"x_test.csv\")"
   ]
  },
  {
   "cell_type": "code",
   "execution_count": 29,
   "metadata": {
    "id": "SKyr-NSYkOvD"
   },
   "outputs": [],
   "source": [
    "## obtenemos la informacion de ciudad y semana para el test\n",
    "ciudad=[]\n",
    "semana= []\n",
    "\n",
    "for i in y_test_p['year_week_borough']:\n",
    "    aux= i.split('_')\n",
    "    ciudad.append(aux[-1].strip())\n",
    "    semana.append(int(aux[-2].strip()))\n",
    "    \n",
    "y_test_p['week'] = semana\n",
    "y_test_p['city'] = ciudad\n",
    "y_test_p= y_test_p.drop('year_week_borough',axis=1)"
   ]
  },
  {
   "cell_type": "code",
   "execution_count": 30,
   "metadata": {
    "id": "m_6cSeqqkOvE"
   },
   "outputs": [],
   "source": [
    "## obtenemos la informacion de ciudad y semana para el train\n",
    "ciudad=[]\n",
    "semana= []\n",
    "\n",
    "for i in y_train['year_week_borough']:\n",
    "    aux= i.split('_')\n",
    "    ciudad.append(aux[-1].strip())\n",
    "    semana.append(int(aux[-2].strip()))\n",
    "    \n",
    "y_train['week'] = semana\n",
    "y_train['city'] = ciudad\n",
    "y_train= y_train.drop('year_week_borough',axis=1)"
   ]
  },
  {
   "cell_type": "code",
   "execution_count": 31,
   "metadata": {
    "id": "fhTHXt4rkOvE"
   },
   "outputs": [],
   "source": [
    "## llevamos el formato del test al formato del train\n",
    "ciudad=[]\n",
    "semana= []\n",
    "año=[]\n",
    "\n",
    "for i in x_test['year_week_borough']:\n",
    "    aux= i.split('_')\n",
    "    ciudad.append(aux[-1].strip())\n",
    "    semana.append(int(aux[-2].strip()))\n",
    "    año.append(int(aux[-3].strip()))\n",
    "    \n",
    "x_test['year'] = año\n",
    "x_test['week'] = semana\n",
    "x_test['Borough'] = ciudad\n",
    "x_test= x_test.drop('year_week_borough',axis=1)\n",
    "\n",
    "x_test=x_test.drop([\"Other\",\"Unknown\"],axis=1)\n",
    "\n",
    "categoricas_codificado=pd.get_dummies(list(x_test.dtypes[x_test.dtypes == \"object\"].index))\n",
    "\n",
    "categorica_features = list(x_test.dtypes[x_test.dtypes == \"object\"].index) #columnas categoricas\n",
    "categoricas=x_test.loc[:,categorica_features] #sus datos\n",
    "categoricas_codificado=pd.get_dummies(categoricas)\n",
    "\n",
    "numeric_features = list(x_test.dtypes[x_test.dtypes != \"object\"].index) #columnas numericas\n",
    "numericas=x_test.loc[:,numeric_features] #sus datos\n",
    "numericas= pd.DataFrame(data=numericas, columns= numeric_features)\n",
    "\n",
    "\n",
    "x_test_df_procesado= pd.concat([categoricas_codificado,numericas], axis=1, sort=False)\n"
   ]
  },
  {
   "cell_type": "code",
   "execution_count": 32,
   "metadata": {
    "colab": {
     "base_uri": "https://localhost:8080/"
    },
    "id": "7PivKYLAkOvF",
    "outputId": "3310eb3d-0f77-4935-b3a4-f499f594eaeb",
    "scrolled": true
   },
   "outputs": [
    {
     "data": {
      "text/plain": [
       "[(13, 'Bronx'),\n",
       " (26, 'Bronx'),\n",
       " (39, 'Bronx'),\n",
       " (52, 'Bronx'),\n",
       " (13, 'Brooklyn'),\n",
       " (26, 'Brooklyn'),\n",
       " (39, 'Brooklyn'),\n",
       " (52, 'Brooklyn'),\n",
       " (13, 'Manhattan'),\n",
       " (26, 'Manhattan'),\n",
       " (39, 'Manhattan'),\n",
       " (52, 'Manhattan'),\n",
       " (13, 'Queens'),\n",
       " (26, 'Queens'),\n",
       " (39, 'Queens'),\n",
       " (52, 'Queens'),\n",
       " (13, 'Staten island'),\n",
       " (26, 'Staten island'),\n",
       " (39, 'Staten island'),\n",
       " (52, 'Staten island')]"
      ]
     },
     "execution_count": 32,
     "metadata": {},
     "output_type": "execute_result"
    }
   ],
   "source": [
    "#modelos a ejecutar\n",
    "subset=[]\n",
    "\n",
    "for ciudad in y_train['city'].unique():\n",
    "    for rango in [13, 26, 39, 52]:\n",
    "        subset.append((rango,ciudad))\n",
    "subset    "
   ]
  },
  {
   "cell_type": "code",
   "execution_count": 33,
   "metadata": {
    "id": "mXoprAkUkOvG",
    "scrolled": true
   },
   "outputs": [],
   "source": [
    "## cambio de orden de columnas para que queden igual\n",
    "year = df_procesado.year\n",
    "week = df_procesado.week\n",
    "df_procesado_2 = df_procesado.drop([\"year\",\"week\"],axis=1)\n",
    "df_procesado=pd.concat((df_procesado_2,year,week),axis=1)"
   ]
  },
  {
   "cell_type": "code",
   "execution_count": 34,
   "metadata": {
    "colab": {
     "base_uri": "https://localhost:8080/"
    },
    "id": "DWq_v5OEkOvG",
    "outputId": "8f56df9e-72ab-4a77-a4fc-682277e93c61"
   },
   "outputs": [
    {
     "name": "stdout",
     "output_type": "stream",
     "text": [
      "El modelo para: 13 Bronx tamaño: 79 - 4.62\n",
      "tamaño test: 3 - 3.8 tamaño train: 79 - 100.0\n",
      "El modelo para: 26 Bronx tamaño: 79 - 4.62\n",
      "tamaño test: 13 - 16.46 tamaño train: 79 - 100.0\n",
      "El modelo para: 39 Bronx tamaño: 91 - 5.32\n",
      "tamaño test: 13 - 14.29 tamaño train: 91 - 100.0\n",
      "El modelo para: 52 Bronx tamaño: 91 - 5.32\n",
      "tamaño test: 13 - 14.29 tamaño train: 91 - 100.0\n",
      "El modelo para: 13 Brooklyn tamaño: 79 - 4.62\n",
      "tamaño test: 13 - 16.46 tamaño train: 79 - 100.0\n",
      "El modelo para: 26 Brooklyn tamaño: 79 - 4.62\n",
      "tamaño test: 13 - 16.46 tamaño train: 79 - 100.0\n",
      "El modelo para: 39 Brooklyn tamaño: 91 - 5.32\n",
      "tamaño test: 13 - 14.29 tamaño train: 91 - 100.0\n",
      "El modelo para: 52 Brooklyn tamaño: 91 - 5.32\n",
      "tamaño test: 13 - 14.29 tamaño train: 91 - 100.0\n",
      "El modelo para: 13 Manhattan tamaño: 79 - 4.62\n",
      "tamaño test: 13 - 16.46 tamaño train: 79 - 100.0\n",
      "El modelo para: 26 Manhattan tamaño: 79 - 4.62\n",
      "tamaño test: 13 - 16.46 tamaño train: 79 - 100.0\n",
      "El modelo para: 39 Manhattan tamaño: 91 - 5.32\n",
      "tamaño test: 13 - 14.29 tamaño train: 91 - 100.0\n",
      "El modelo para: 52 Manhattan tamaño: 91 - 5.32\n",
      "tamaño test: 13 - 14.29 tamaño train: 91 - 100.0\n",
      "El modelo para: 13 Queens tamaño: 79 - 4.62\n",
      "tamaño test: 13 - 16.46 tamaño train: 79 - 100.0\n",
      "El modelo para: 26 Queens tamaño: 79 - 4.62\n",
      "tamaño test: 13 - 16.46 tamaño train: 79 - 100.0\n",
      "El modelo para: 39 Queens tamaño: 91 - 5.32\n",
      "tamaño test: 13 - 14.29 tamaño train: 91 - 100.0\n",
      "El modelo para: 52 Queens tamaño: 91 - 5.32\n",
      "tamaño test: 13 - 14.29 tamaño train: 91 - 100.0\n",
      "El modelo para: 13 Staten island tamaño: 79 - 4.62\n",
      "tamaño test: 13 - 16.46 tamaño train: 79 - 100.0\n",
      "El modelo para: 26 Staten island tamaño: 79 - 4.62\n",
      "tamaño test: 13 - 16.46 tamaño train: 79 - 100.0\n",
      "El modelo para: 39 Staten island tamaño: 91 - 5.32\n",
      "tamaño test: 13 - 14.29 tamaño train: 91 - 100.0\n",
      "El modelo para: 52 Staten island tamaño: 91 - 5.32\n",
      "tamaño test: 13 - 14.29 tamaño train: 91 - 100.0\n"
     ]
    }
   ],
   "source": [
    "#modelo semanas por intervalos de trimestres y ciudades\n",
    "\n",
    "from sklearn.multioutput import RegressorChain\n",
    "for tupla in subset:\n",
    "    sem, ciu = tupla\n",
    "    X= df_procesado[(df_procesado['week'] <= sem) & (df_procesado['week'] > sem-13)  & (df_procesado['Borough_' +str(ciu)] == 1)]\n",
    "    Y= y_train[(y_train['week'] <= sem) &(y_train['week'] > sem-13) & (y_train['city'] == ciu)]\n",
    "    \n",
    "    print(\"El modelo para:\",sem, ciu, \"tamaño:\", Y.shape[0], '-', round(Y.shape[0]/y_train.shape[0]*100,2))\n",
    "    \n",
    "    Y_test_kaggle = y_test_p[(y_test_p['week'] <= sem) & (y_test_p['week'] > sem-13) & (y_test_p['city'] == ciu)]\n",
    "    \n",
    "    X_test_kaggle= x_test_df_procesado[(x_test_df_procesado['week'] <= sem) & (x_test_df_procesado['week'] > sem-13) & (x_test_df_procesado['Borough_' +str(ciu)] == 1)]\n",
    "    \n",
    "    print('tamaño test:', Y_test_kaggle.shape[0],'-', round(Y_test_kaggle.shape[0]/Y.shape[0]*100,2),\n",
    "          'tamaño train:', Y.shape[0], '-', round(Y.shape[0]/Y.shape[0]*100,2))\n",
    "    \n",
    "    #Entrenamiento\n",
    "    \n",
    "    clf = linear_model.Ridge(alpha=.5)\n",
    "    model = RegressorChain(clf)\n",
    "    model.fit(X,Y.drop(['week', 'city'],axis=1))\n",
    "    y_pred= model.predict(X_test_kaggle)\n",
    "    \n",
    "    if sem==13 and ciu==\"Bronx\": ## en este caso solo se predicen la 11,12 y 13, pero igualfue entrenado desde la semana 1\n",
    "        y_pred[:,0] = [int(max(0, int(x))) for x in y_pred[:,0]]\n",
    "        y_pred[:,1] = [int(max(0, int(x))) for x in y_pred[:,1]]\n",
    "        y_pred[:,2] = [int(max(0, int(x))) for x in y_pred[:,2]]\n",
    "        y_test_p.loc[list(Y_test_kaggle.index), ['Felony', 'Misdemeanor', 'Violation']] =  y_pred.tolist()[-3:]\n",
    "    else:\n",
    "        y_pred[:,0] = [int(max(0, int(x))) for x in y_pred[:,0]]\n",
    "        y_pred[:,1] = [int(max(0, int(x))) for x in y_pred[:,1]]\n",
    "        y_pred[:,2] = [int(max(0, int(x))) for x in y_pred[:,2]]\n",
    "        y_test_p.loc[list(Y_test_kaggle.index), ['Felony', 'Misdemeanor', 'Violation']] = y_pred.tolist()"
   ]
  },
  {
   "cell_type": "code",
   "execution_count": 35,
   "metadata": {
    "id": "j9ChbCnjkOvH"
   },
   "outputs": [],
   "source": [
    "## guardamos las predicciones\n",
    "y_test_2 = pd.read_csv(\"y_test_pattern.csv\")\n",
    "resultados=y_test_p.drop([\"week\",\"city\"],axis=1)\n",
    "resultados[\"year_week_borough\"]= y_test_2.year_week_borough\n",
    "resultados.to_csv(r'C:\\Users\\Mario\\python\\machine_learning\\entrega.csv', index = False)"
   ]
  },
  {
   "cell_type": "code",
   "execution_count": 36,
   "metadata": {
    "id": "ZadU22wZkOvH",
    "outputId": "6e9e890d-0de2-4f9f-a232-f86617d9c498"
   },
   "outputs": [
    {
     "data": {
      "text/html": [
       "<div>\n",
       "<style scoped>\n",
       "    .dataframe tbody tr th:only-of-type {\n",
       "        vertical-align: middle;\n",
       "    }\n",
       "\n",
       "    .dataframe tbody tr th {\n",
       "        vertical-align: top;\n",
       "    }\n",
       "\n",
       "    .dataframe thead th {\n",
       "        text-align: right;\n",
       "    }\n",
       "</style>\n",
       "<table border=\"1\" class=\"dataframe\">\n",
       "  <thead>\n",
       "    <tr style=\"text-align: right;\">\n",
       "      <th></th>\n",
       "      <th>Felony</th>\n",
       "      <th>Misdemeanor</th>\n",
       "      <th>Violation</th>\n",
       "      <th>year_week_borough</th>\n",
       "    </tr>\n",
       "  </thead>\n",
       "  <tbody>\n",
       "    <tr>\n",
       "      <th>0</th>\n",
       "      <td>340.0</td>\n",
       "      <td>659.0</td>\n",
       "      <td>20.0</td>\n",
       "      <td>2019_11_Bronx</td>\n",
       "    </tr>\n",
       "    <tr>\n",
       "      <th>1</th>\n",
       "      <td>313.0</td>\n",
       "      <td>632.0</td>\n",
       "      <td>30.0</td>\n",
       "      <td>2019_12_Bronx</td>\n",
       "    </tr>\n",
       "    <tr>\n",
       "      <th>2</th>\n",
       "      <td>258.0</td>\n",
       "      <td>688.0</td>\n",
       "      <td>13.0</td>\n",
       "      <td>2019_13_Bronx</td>\n",
       "    </tr>\n",
       "    <tr>\n",
       "      <th>3</th>\n",
       "      <td>349.0</td>\n",
       "      <td>726.0</td>\n",
       "      <td>6.0</td>\n",
       "      <td>2019_14_Bronx</td>\n",
       "    </tr>\n",
       "    <tr>\n",
       "      <th>4</th>\n",
       "      <td>309.0</td>\n",
       "      <td>661.0</td>\n",
       "      <td>9.0</td>\n",
       "      <td>2019_15_Bronx</td>\n",
       "    </tr>\n",
       "    <tr>\n",
       "      <th>...</th>\n",
       "      <td>...</td>\n",
       "      <td>...</td>\n",
       "      <td>...</td>\n",
       "      <td>...</td>\n",
       "    </tr>\n",
       "    <tr>\n",
       "      <th>245</th>\n",
       "      <td>45.0</td>\n",
       "      <td>68.0</td>\n",
       "      <td>0.0</td>\n",
       "      <td>2019_48_Staten island</td>\n",
       "    </tr>\n",
       "    <tr>\n",
       "      <th>246</th>\n",
       "      <td>50.0</td>\n",
       "      <td>105.0</td>\n",
       "      <td>0.0</td>\n",
       "      <td>2019_49_Staten island</td>\n",
       "    </tr>\n",
       "    <tr>\n",
       "      <th>247</th>\n",
       "      <td>59.0</td>\n",
       "      <td>106.0</td>\n",
       "      <td>1.0</td>\n",
       "      <td>2019_50_Staten island</td>\n",
       "    </tr>\n",
       "    <tr>\n",
       "      <th>248</th>\n",
       "      <td>40.0</td>\n",
       "      <td>82.0</td>\n",
       "      <td>0.0</td>\n",
       "      <td>2019_51_Staten island</td>\n",
       "    </tr>\n",
       "    <tr>\n",
       "      <th>249</th>\n",
       "      <td>17.0</td>\n",
       "      <td>75.0</td>\n",
       "      <td>0.0</td>\n",
       "      <td>2019_52_Staten island</td>\n",
       "    </tr>\n",
       "  </tbody>\n",
       "</table>\n",
       "<p>250 rows × 4 columns</p>\n",
       "</div>"
      ],
      "text/plain": [
       "     Felony  Misdemeanor  Violation      year_week_borough\n",
       "0     340.0        659.0       20.0          2019_11_Bronx\n",
       "1     313.0        632.0       30.0          2019_12_Bronx\n",
       "2     258.0        688.0       13.0          2019_13_Bronx\n",
       "3     349.0        726.0        6.0          2019_14_Bronx\n",
       "4     309.0        661.0        9.0          2019_15_Bronx\n",
       "..      ...          ...        ...                    ...\n",
       "245    45.0         68.0        0.0  2019_48_Staten island\n",
       "246    50.0        105.0        0.0  2019_49_Staten island\n",
       "247    59.0        106.0        1.0  2019_50_Staten island\n",
       "248    40.0         82.0        0.0  2019_51_Staten island\n",
       "249    17.0         75.0        0.0  2019_52_Staten island\n",
       "\n",
       "[250 rows x 4 columns]"
      ]
     },
     "execution_count": 36,
     "metadata": {},
     "output_type": "execute_result"
    }
   ],
   "source": [
    "resultados"
   ]
  },
  {
   "cell_type": "code",
   "execution_count": 37,
   "metadata": {
    "id": "5An9bgZjkOvH",
    "outputId": "6ca6b1c6-0d68-436b-ce04-928bac86764b",
    "scrolled": false
   },
   "outputs": [
    {
     "data": {
      "text/html": [
       "<div>\n",
       "<style scoped>\n",
       "    .dataframe tbody tr th:only-of-type {\n",
       "        vertical-align: middle;\n",
       "    }\n",
       "\n",
       "    .dataframe tbody tr th {\n",
       "        vertical-align: top;\n",
       "    }\n",
       "\n",
       "    .dataframe thead th {\n",
       "        text-align: right;\n",
       "    }\n",
       "</style>\n",
       "<table border=\"1\" class=\"dataframe\">\n",
       "  <thead>\n",
       "    <tr style=\"text-align: right;\">\n",
       "      <th></th>\n",
       "      <th>Felony</th>\n",
       "      <th>Misdemeanor</th>\n",
       "      <th>Violation</th>\n",
       "      <th>year_week_borough</th>\n",
       "    </tr>\n",
       "  </thead>\n",
       "  <tbody>\n",
       "    <tr>\n",
       "      <th>0</th>\n",
       "      <td>317.542118</td>\n",
       "      <td>1302.814500</td>\n",
       "      <td>43.325421</td>\n",
       "      <td>2019_11_Bronx</td>\n",
       "    </tr>\n",
       "    <tr>\n",
       "      <th>1</th>\n",
       "      <td>294.914758</td>\n",
       "      <td>614.092060</td>\n",
       "      <td>109.041712</td>\n",
       "      <td>2019_12_Bronx</td>\n",
       "    </tr>\n",
       "    <tr>\n",
       "      <th>2</th>\n",
       "      <td>213.039266</td>\n",
       "      <td>460.584152</td>\n",
       "      <td>130.819392</td>\n",
       "      <td>2019_13_Bronx</td>\n",
       "    </tr>\n",
       "    <tr>\n",
       "      <th>3</th>\n",
       "      <td>568.618471</td>\n",
       "      <td>939.020902</td>\n",
       "      <td>106.110155</td>\n",
       "      <td>2019_14_Bronx</td>\n",
       "    </tr>\n",
       "    <tr>\n",
       "      <th>4</th>\n",
       "      <td>101.270171</td>\n",
       "      <td>1041.687093</td>\n",
       "      <td>179.871542</td>\n",
       "      <td>2019_15_Bronx</td>\n",
       "    </tr>\n",
       "    <tr>\n",
       "      <th>...</th>\n",
       "      <td>...</td>\n",
       "      <td>...</td>\n",
       "      <td>...</td>\n",
       "      <td>...</td>\n",
       "    </tr>\n",
       "    <tr>\n",
       "      <th>245</th>\n",
       "      <td>628.818493</td>\n",
       "      <td>1103.752265</td>\n",
       "      <td>251.813597</td>\n",
       "      <td>2019_48_Staten island</td>\n",
       "    </tr>\n",
       "    <tr>\n",
       "      <th>246</th>\n",
       "      <td>344.013892</td>\n",
       "      <td>1142.931868</td>\n",
       "      <td>178.499005</td>\n",
       "      <td>2019_49_Staten island</td>\n",
       "    </tr>\n",
       "    <tr>\n",
       "      <th>247</th>\n",
       "      <td>136.565419</td>\n",
       "      <td>668.991953</td>\n",
       "      <td>87.664780</td>\n",
       "      <td>2019_50_Staten island</td>\n",
       "    </tr>\n",
       "    <tr>\n",
       "      <th>248</th>\n",
       "      <td>401.782325</td>\n",
       "      <td>42.847097</td>\n",
       "      <td>94.029624</td>\n",
       "      <td>2019_51_Staten island</td>\n",
       "    </tr>\n",
       "    <tr>\n",
       "      <th>249</th>\n",
       "      <td>529.251828</td>\n",
       "      <td>435.162711</td>\n",
       "      <td>45.195387</td>\n",
       "      <td>2019_52_Staten island</td>\n",
       "    </tr>\n",
       "  </tbody>\n",
       "</table>\n",
       "<p>250 rows × 4 columns</p>\n",
       "</div>"
      ],
      "text/plain": [
       "         Felony  Misdemeanor   Violation      year_week_borough\n",
       "0    317.542118  1302.814500   43.325421          2019_11_Bronx\n",
       "1    294.914758   614.092060  109.041712          2019_12_Bronx\n",
       "2    213.039266   460.584152  130.819392          2019_13_Bronx\n",
       "3    568.618471   939.020902  106.110155          2019_14_Bronx\n",
       "4    101.270171  1041.687093  179.871542          2019_15_Bronx\n",
       "..          ...          ...         ...                    ...\n",
       "245  628.818493  1103.752265  251.813597  2019_48_Staten island\n",
       "246  344.013892  1142.931868  178.499005  2019_49_Staten island\n",
       "247  136.565419   668.991953   87.664780  2019_50_Staten island\n",
       "248  401.782325    42.847097   94.029624  2019_51_Staten island\n",
       "249  529.251828   435.162711   45.195387  2019_52_Staten island\n",
       "\n",
       "[250 rows x 4 columns]"
      ]
     },
     "execution_count": 37,
     "metadata": {},
     "output_type": "execute_result"
    }
   ],
   "source": [
    "## ejemplo de entrega\n",
    "pd.read_csv(\"sample_submission_ejemplo_emtrega.csv\")"
   ]
  },
  {
   "cell_type": "markdown",
   "metadata": {
    "id": "WXANr48Li1Y1"
   },
   "source": [
    "# Predicciones para el test original: 2) Modelo Final:  Score 25 en Kaggle"
   ]
  },
  {
   "cell_type": "markdown",
   "metadata": {
    "id": "n6CtgN4o2pCl"
   },
   "source": [
    "Ahora consideramos $\\alpha$ para cada modelo según lo calculado como validación y además estandarizamos."
   ]
  },
  {
   "cell_type": "code",
   "execution_count": 38,
   "metadata": {
    "id": "9wMViF8Ci1Y1",
    "scrolled": true
   },
   "outputs": [],
   "source": [
    "## Prepocesamiento entramiento\n",
    "x_train= pd.read_csv(\"x_train.csv\")\n",
    "y_train= pd.read_csv(\"y_train.csv\")\n",
    "\n",
    "x_train=x_train.drop([\"Other\",\"Unknown\"],axis=1) ##solo tienen ceros\n",
    "\n",
    "categoricas_codificado=pd.get_dummies(list(x_train.dtypes[x_train.dtypes == \"object\"].index))\n",
    "\n",
    "categorica_features = list(x_train.dtypes[x_train.dtypes == \"object\"].index) #columnas categoricas\n",
    "categoricas=x_train.loc[:,categorica_features] #sus datos\n",
    "categoricas_codificado=pd.get_dummies(categoricas)\n",
    "\n",
    "numeric_features = list(x_train.dtypes[x_train.dtypes != \"object\"].index) #columnas numericas\n",
    "numericas=x_train.loc[:,numeric_features] #sus datos\n",
    "numericas= pd.DataFrame(data=numericas, columns= numeric_features)\n",
    "\n",
    "\n",
    "\n",
    "\n",
    "\n",
    "year = numericas.year\n",
    "week = numericas.week\n",
    "df_procesado_2 = numericas.drop([\"year\",\"week\"],axis=1)\n",
    "scaler = StandardScaler()\n",
    "scaler.fit(df_procesado_2)\n",
    "df_procesado_3=pd.DataFrame(data= scaler.transform(df_procesado_2),columns= df_procesado_2.columns)\n",
    "\n",
    "df_procesado_4= pd.concat([categoricas_codificado,df_procesado_3], axis=1, sort=False)\n",
    "df_procesado=pd.concat((df_procesado_4,year,week),axis=1)\n",
    "\n"
   ]
  },
  {
   "cell_type": "code",
   "execution_count": 39,
   "metadata": {
    "id": "NuXpr9k5i1Y1"
   },
   "outputs": [],
   "source": [
    "## leemos test\n",
    "y_test_p = pd.read_csv(\"y_test_pattern.csv\")\n",
    "x_test= pd.read_csv(\"x_test.csv\")"
   ]
  },
  {
   "cell_type": "code",
   "execution_count": 40,
   "metadata": {
    "id": "bdokTTZNi1Y1"
   },
   "outputs": [],
   "source": [
    "## obtenemos la informacion de ciudad y semana para el test\n",
    "ciudad=[]\n",
    "semana= []\n",
    "\n",
    "for i in y_test_p['year_week_borough']:\n",
    "    aux= i.split('_')\n",
    "    ciudad.append(aux[-1].strip())\n",
    "    semana.append(int(aux[-2].strip()))\n",
    "    \n",
    "y_test_p['week'] = semana\n",
    "y_test_p['city'] = ciudad\n",
    "y_test_p= y_test_p.drop('year_week_borough',axis=1)"
   ]
  },
  {
   "cell_type": "code",
   "execution_count": 41,
   "metadata": {
    "id": "K-Jx-RLmi1Y2"
   },
   "outputs": [],
   "source": [
    "## obtenemos la informacion de ciudad y semana para el train\n",
    "ciudad=[]\n",
    "semana= []\n",
    "\n",
    "for i in y_train['year_week_borough']:\n",
    "    aux= i.split('_')\n",
    "    ciudad.append(aux[-1].strip())\n",
    "    semana.append(int(aux[-2].strip()))\n",
    "    \n",
    "y_train['week'] = semana\n",
    "y_train['city'] = ciudad\n",
    "y_train= y_train.drop('year_week_borough',axis=1)"
   ]
  },
  {
   "cell_type": "code",
   "execution_count": 42,
   "metadata": {
    "id": "Vid1PNtGi1Y3"
   },
   "outputs": [],
   "source": [
    "## llevamos el formato del test al formato del train\n",
    "ciudad=[]\n",
    "semana= []\n",
    "año=[]\n",
    "\n",
    "for i in x_test['year_week_borough']:\n",
    "    aux= i.split('_')\n",
    "    ciudad.append(aux[-1].strip())\n",
    "    semana.append(int(aux[-2].strip()))\n",
    "    año.append(int(aux[-3].strip()))\n",
    "    \n",
    "x_test['year'] = año\n",
    "x_test['week'] = semana\n",
    "x_test['Borough'] = ciudad\n",
    "x_test= x_test.drop('year_week_borough',axis=1)\n",
    "\n",
    "x_test=x_test.drop([\"Other\",\"Unknown\"],axis=1)\n",
    "\n",
    "categoricas_codificado=pd.get_dummies(list(x_test.dtypes[x_test.dtypes == \"object\"].index))\n",
    "\n",
    "categorica_features = list(x_test.dtypes[x_test.dtypes == \"object\"].index) #columnas categoricas\n",
    "categoricas=x_test.loc[:,categorica_features] #sus datos\n",
    "categoricas_codificado=pd.get_dummies(categoricas)\n",
    "\n",
    "numeric_features = list(x_test.dtypes[x_test.dtypes != \"object\"].index) #columnas numericas\n",
    "numericas=x_test.loc[:,numeric_features] #sus datos\n",
    "numericas= pd.DataFrame(data=numericas, columns= numeric_features)\n",
    "\n",
    "\n",
    "\n",
    "\n",
    "\n",
    "year = numericas.year\n",
    "week = numericas.week\n",
    "df_procesado_2 = numericas.drop([\"year\",\"week\"],axis=1)\n",
    "df_procesado_3=pd.DataFrame(data= scaler.transform(df_procesado_2),columns= df_procesado_2.columns)\n",
    "\n",
    "df_procesado_4= pd.concat([categoricas_codificado,df_procesado_3], axis=1, sort=False)\n",
    "x_test_df_procesado=pd.concat((df_procesado_4,year,week),axis=1)"
   ]
  },
  {
   "cell_type": "code",
   "execution_count": 43,
   "metadata": {
    "colab": {
     "base_uri": "https://localhost:8080/"
    },
    "id": "bku74oqZi1Y3",
    "outputId": "3c31f8b9-dd2b-43df-de05-d3b4005a1700"
   },
   "outputs": [
    {
     "data": {
      "text/plain": [
       "[(13, 'Bronx', 0.1),\n",
       " (26, 'Bronx', 0.9),\n",
       " (39, 'Bronx', 1),\n",
       " (52, 'Bronx', 0.1),\n",
       " (13, 'Brooklyn', 0.1),\n",
       " (26, 'Brooklyn', 0.1),\n",
       " (39, 'Brooklyn', 1),\n",
       " (52, 'Brooklyn', 1),\n",
       " (13, 'Manhattan', 1),\n",
       " (26, 'Manhattan', 0.1),\n",
       " (39, 'Manhattan', 0.1),\n",
       " (52, 'Manhattan', 0.1),\n",
       " (13, 'Queens', 1),\n",
       " (26, 'Queens', 1),\n",
       " (39, 'Queens', 1),\n",
       " (52, 'Queens', 0.8),\n",
       " (13, 'Staten island', 1),\n",
       " (26, 'Staten island', 1),\n",
       " (39, 'Staten island', 0.9),\n",
       " (52, 'Staten island', 0.1)]"
      ]
     },
     "execution_count": 43,
     "metadata": {},
     "output_type": "execute_result"
    }
   ],
   "source": [
    "parametros_modelos"
   ]
  },
  {
   "cell_type": "code",
   "execution_count": 44,
   "metadata": {
    "colab": {
     "base_uri": "https://localhost:8080/"
    },
    "id": "ebWal6Hpi1Y4",
    "outputId": "5df59aa6-c844-4bc4-a416-40d5e4a9bffd"
   },
   "outputs": [
    {
     "name": "stdout",
     "output_type": "stream",
     "text": [
      "El modelo para: 13 Bronx tamaño: 79 - 4.62\n",
      "tamaño test: 3 - 3.8 tamaño train: 79 - 100.0\n",
      "El modelo para: 26 Bronx tamaño: 79 - 4.62\n",
      "tamaño test: 13 - 16.46 tamaño train: 79 - 100.0\n",
      "El modelo para: 39 Bronx tamaño: 91 - 5.32\n",
      "tamaño test: 13 - 14.29 tamaño train: 91 - 100.0\n",
      "El modelo para: 52 Bronx tamaño: 91 - 5.32\n",
      "tamaño test: 13 - 14.29 tamaño train: 91 - 100.0\n",
      "El modelo para: 13 Brooklyn tamaño: 79 - 4.62\n",
      "tamaño test: 13 - 16.46 tamaño train: 79 - 100.0\n",
      "El modelo para: 26 Brooklyn tamaño: 79 - 4.62\n",
      "tamaño test: 13 - 16.46 tamaño train: 79 - 100.0\n",
      "El modelo para: 39 Brooklyn tamaño: 91 - 5.32\n",
      "tamaño test: 13 - 14.29 tamaño train: 91 - 100.0\n",
      "El modelo para: 52 Brooklyn tamaño: 91 - 5.32\n",
      "tamaño test: 13 - 14.29 tamaño train: 91 - 100.0\n",
      "El modelo para: 13 Manhattan tamaño: 79 - 4.62\n",
      "tamaño test: 13 - 16.46 tamaño train: 79 - 100.0\n",
      "El modelo para: 26 Manhattan tamaño: 79 - 4.62\n",
      "tamaño test: 13 - 16.46 tamaño train: 79 - 100.0\n",
      "El modelo para: 39 Manhattan tamaño: 91 - 5.32\n",
      "tamaño test: 13 - 14.29 tamaño train: 91 - 100.0\n",
      "El modelo para: 52 Manhattan tamaño: 91 - 5.32\n",
      "tamaño test: 13 - 14.29 tamaño train: 91 - 100.0\n",
      "El modelo para: 13 Queens tamaño: 79 - 4.62\n",
      "tamaño test: 13 - 16.46 tamaño train: 79 - 100.0\n",
      "El modelo para: 26 Queens tamaño: 79 - 4.62\n",
      "tamaño test: 13 - 16.46 tamaño train: 79 - 100.0\n",
      "El modelo para: 39 Queens tamaño: 91 - 5.32\n",
      "tamaño test: 13 - 14.29 tamaño train: 91 - 100.0\n",
      "El modelo para: 52 Queens tamaño: 91 - 5.32\n",
      "tamaño test: 13 - 14.29 tamaño train: 91 - 100.0\n",
      "El modelo para: 13 Staten island tamaño: 79 - 4.62\n",
      "tamaño test: 13 - 16.46 tamaño train: 79 - 100.0\n",
      "El modelo para: 26 Staten island tamaño: 79 - 4.62\n",
      "tamaño test: 13 - 16.46 tamaño train: 79 - 100.0\n",
      "El modelo para: 39 Staten island tamaño: 91 - 5.32\n",
      "tamaño test: 13 - 14.29 tamaño train: 91 - 100.0\n",
      "El modelo para: 52 Staten island tamaño: 91 - 5.32\n",
      "tamaño test: 13 - 14.29 tamaño train: 91 - 100.0\n"
     ]
    }
   ],
   "source": [
    "#modelo semanas por intervalos de trimestres y ciudades\n",
    "\n",
    "from sklearn.multioutput import RegressorChain\n",
    "for tupla in parametros_modelos:\n",
    "    sem, ciu, a = tupla\n",
    "    X= df_procesado[(df_procesado['week'] <= sem) & (df_procesado['week'] > sem-13)  & (df_procesado['Borough_' +str(ciu)] == 1)]\n",
    "    Y= y_train[(y_train['week'] <= sem) &(y_train['week'] > sem-13) & (y_train['city'] == ciu)]\n",
    "    \n",
    "    print(\"El modelo para:\",sem, ciu, \"tamaño:\", Y.shape[0], '-', round(Y.shape[0]/y_train.shape[0]*100,2))\n",
    "    \n",
    "    Y_test_kaggle = y_test_p[(y_test_p['week'] <= sem) & (y_test_p['week'] > sem-13) & (y_test_p['city'] == ciu)]\n",
    "    \n",
    "    X_test_kaggle= x_test_df_procesado[(x_test_df_procesado['week'] <= sem) & (x_test_df_procesado['week'] > sem-13) & (x_test_df_procesado['Borough_' +str(ciu)] == 1)]\n",
    "    \n",
    "    print('tamaño test:', Y_test_kaggle.shape[0],'-', round(Y_test_kaggle.shape[0]/Y.shape[0]*100,2),\n",
    "          'tamaño train:', Y.shape[0], '-', round(Y.shape[0]/Y.shape[0]*100,2))\n",
    "    \n",
    "    #Entrenamiento\n",
    "    \n",
    "    clf = linear_model.Ridge(alpha=a)\n",
    "    model = RegressorChain(clf)\n",
    "    model.fit(X,Y.drop(['week', 'city'],axis=1))\n",
    "    y_pred= model.predict(X_test_kaggle)\n",
    "    \n",
    "    if sem==13 and ciu==\"Bronx\": ## en este caso solo se predicen la 11,12 y 13, pero igualfue entrenado desde la semana 1\n",
    "        y_pred[:,0] = [int(max(0, int(x))) for x in y_pred[:,0]]\n",
    "        y_pred[:,1] = [int(max(0, int(x))) for x in y_pred[:,1]]\n",
    "        y_pred[:,2] = [int(max(0, int(x))) for x in y_pred[:,2]]\n",
    "        y_test_p.loc[list(Y_test_kaggle.index), ['Felony', 'Misdemeanor', 'Violation']] =  y_pred.tolist()[-3:]\n",
    "    else:\n",
    "        y_pred[:,0] = [int(max(0, int(x))) for x in y_pred[:,0]]\n",
    "        y_pred[:,1] = [int(max(0, int(x))) for x in y_pred[:,1]]\n",
    "        y_pred[:,2] = [int(max(0, int(x))) for x in y_pred[:,2]]\n",
    "        y_test_p.loc[list(Y_test_kaggle.index), ['Felony', 'Misdemeanor', 'Violation']] = y_pred.tolist()"
   ]
  },
  {
   "cell_type": "code",
   "execution_count": 45,
   "metadata": {
    "id": "XLakaTrLi1Y4"
   },
   "outputs": [],
   "source": [
    "## guardamos las predicciones\n",
    "y_test_2 = pd.read_csv(\"y_test_pattern.csv\")\n",
    "resultados=y_test_p.drop([\"week\",\"city\"],axis=1)\n",
    "resultados[\"year_week_borough\"]= y_test_2.year_week_borough\n",
    "resultados.to_csv(r'C:\\Users\\Mario\\python\\machine_learning\\entrega_1.csv', index = False)"
   ]
  },
  {
   "cell_type": "code",
   "execution_count": 46,
   "metadata": {
    "colab": {
     "base_uri": "https://localhost:8080/",
     "height": 419
    },
    "id": "SO_4wKdpi1Y4",
    "outputId": "110d5395-e177-4c33-97b6-5d172f3ca94b"
   },
   "outputs": [
    {
     "data": {
      "text/html": [
       "<div>\n",
       "<style scoped>\n",
       "    .dataframe tbody tr th:only-of-type {\n",
       "        vertical-align: middle;\n",
       "    }\n",
       "\n",
       "    .dataframe tbody tr th {\n",
       "        vertical-align: top;\n",
       "    }\n",
       "\n",
       "    .dataframe thead th {\n",
       "        text-align: right;\n",
       "    }\n",
       "</style>\n",
       "<table border=\"1\" class=\"dataframe\">\n",
       "  <thead>\n",
       "    <tr style=\"text-align: right;\">\n",
       "      <th></th>\n",
       "      <th>Felony</th>\n",
       "      <th>Misdemeanor</th>\n",
       "      <th>Violation</th>\n",
       "      <th>year_week_borough</th>\n",
       "    </tr>\n",
       "  </thead>\n",
       "  <tbody>\n",
       "    <tr>\n",
       "      <th>0</th>\n",
       "      <td>347.0</td>\n",
       "      <td>657.0</td>\n",
       "      <td>19.0</td>\n",
       "      <td>2019_11_Bronx</td>\n",
       "    </tr>\n",
       "    <tr>\n",
       "      <th>1</th>\n",
       "      <td>324.0</td>\n",
       "      <td>626.0</td>\n",
       "      <td>28.0</td>\n",
       "      <td>2019_12_Bronx</td>\n",
       "    </tr>\n",
       "    <tr>\n",
       "      <th>2</th>\n",
       "      <td>275.0</td>\n",
       "      <td>673.0</td>\n",
       "      <td>12.0</td>\n",
       "      <td>2019_13_Bronx</td>\n",
       "    </tr>\n",
       "    <tr>\n",
       "      <th>3</th>\n",
       "      <td>341.0</td>\n",
       "      <td>719.0</td>\n",
       "      <td>8.0</td>\n",
       "      <td>2019_14_Bronx</td>\n",
       "    </tr>\n",
       "    <tr>\n",
       "      <th>4</th>\n",
       "      <td>308.0</td>\n",
       "      <td>673.0</td>\n",
       "      <td>10.0</td>\n",
       "      <td>2019_15_Bronx</td>\n",
       "    </tr>\n",
       "    <tr>\n",
       "      <th>...</th>\n",
       "      <td>...</td>\n",
       "      <td>...</td>\n",
       "      <td>...</td>\n",
       "      <td>...</td>\n",
       "    </tr>\n",
       "    <tr>\n",
       "      <th>245</th>\n",
       "      <td>39.0</td>\n",
       "      <td>70.0</td>\n",
       "      <td>0.0</td>\n",
       "      <td>2019_48_Staten island</td>\n",
       "    </tr>\n",
       "    <tr>\n",
       "      <th>246</th>\n",
       "      <td>46.0</td>\n",
       "      <td>106.0</td>\n",
       "      <td>0.0</td>\n",
       "      <td>2019_49_Staten island</td>\n",
       "    </tr>\n",
       "    <tr>\n",
       "      <th>247</th>\n",
       "      <td>59.0</td>\n",
       "      <td>109.0</td>\n",
       "      <td>1.0</td>\n",
       "      <td>2019_50_Staten island</td>\n",
       "    </tr>\n",
       "    <tr>\n",
       "      <th>248</th>\n",
       "      <td>36.0</td>\n",
       "      <td>84.0</td>\n",
       "      <td>0.0</td>\n",
       "      <td>2019_51_Staten island</td>\n",
       "    </tr>\n",
       "    <tr>\n",
       "      <th>249</th>\n",
       "      <td>22.0</td>\n",
       "      <td>69.0</td>\n",
       "      <td>0.0</td>\n",
       "      <td>2019_52_Staten island</td>\n",
       "    </tr>\n",
       "  </tbody>\n",
       "</table>\n",
       "<p>250 rows × 4 columns</p>\n",
       "</div>"
      ],
      "text/plain": [
       "     Felony  Misdemeanor  Violation      year_week_borough\n",
       "0     347.0        657.0       19.0          2019_11_Bronx\n",
       "1     324.0        626.0       28.0          2019_12_Bronx\n",
       "2     275.0        673.0       12.0          2019_13_Bronx\n",
       "3     341.0        719.0        8.0          2019_14_Bronx\n",
       "4     308.0        673.0       10.0          2019_15_Bronx\n",
       "..      ...          ...        ...                    ...\n",
       "245    39.0         70.0        0.0  2019_48_Staten island\n",
       "246    46.0        106.0        0.0  2019_49_Staten island\n",
       "247    59.0        109.0        1.0  2019_50_Staten island\n",
       "248    36.0         84.0        0.0  2019_51_Staten island\n",
       "249    22.0         69.0        0.0  2019_52_Staten island\n",
       "\n",
       "[250 rows x 4 columns]"
      ]
     },
     "execution_count": 46,
     "metadata": {},
     "output_type": "execute_result"
    }
   ],
   "source": [
    "resultados"
   ]
  }
 ],
 "metadata": {
  "colab": {
   "name": "pred_delitos_Mallea_Ramirez.ipynb",
   "provenance": [],
   "toc_visible": true
  },
  "kernelspec": {
   "display_name": "Python 3",
   "language": "python",
   "name": "python3"
  },
  "language_info": {
   "codemirror_mode": {
    "name": "ipython",
    "version": 3
   },
   "file_extension": ".py",
   "mimetype": "text/x-python",
   "name": "python",
   "nbconvert_exporter": "python",
   "pygments_lexer": "ipython3",
   "version": "3.7.8"
  }
 },
 "nbformat": 4,
 "nbformat_minor": 1
}
